{
 "cells": [
  {
   "cell_type": "code",
   "execution_count": 1,
   "metadata": {},
   "outputs": [],
   "source": [
    "import pandas as pd\n",
    "import numpy as np\n",
    "%matplotlib inline\n",
    "import re\n",
    "import seaborn as sns "
   ]
  },
  {
   "cell_type": "code",
   "execution_count": 2,
   "metadata": {},
   "outputs": [],
   "source": [
    "df = pd.read_excel('kriminalität_schweiz_NEU.xlsx')"
   ]
  },
  {
   "cell_type": "code",
   "execution_count": 3,
   "metadata": {},
   "outputs": [
    {
     "data": {
      "text/html": [
       "<div>\n",
       "<style scoped>\n",
       "    .dataframe tbody tr th:only-of-type {\n",
       "        vertical-align: middle;\n",
       "    }\n",
       "\n",
       "    .dataframe tbody tr th {\n",
       "        vertical-align: top;\n",
       "    }\n",
       "\n",
       "    .dataframe thead th {\n",
       "        text-align: right;\n",
       "    }\n",
       "</style>\n",
       "<table border=\"1\" class=\"dataframe\">\n",
       "  <thead>\n",
       "    <tr style=\"text-align: right;\">\n",
       "      <th></th>\n",
       "      <th>Unnamed: 0</th>\n",
       "      <th>14 0</th>\n",
       "      <th>15 0</th>\n",
       "      <th>16 0</th>\n",
       "      <th>17 0</th>\n",
       "      <th>tot_adults</th>\n",
       "      <th>18 19</th>\n",
       "      <th>20 24</th>\n",
       "      <th>25 29</th>\n",
       "      <th>30 34</th>\n",
       "      <th>35 39</th>\n",
       "      <th>40 44</th>\n",
       "      <th>45 49</th>\n",
       "      <th>50 59</th>\n",
       "      <th>60 69</th>\n",
       "      <th>70 0</th>\n",
       "    </tr>\n",
       "  </thead>\n",
       "  <tbody>\n",
       "    <tr>\n",
       "      <th>0</th>\n",
       "      <td>1984</td>\n",
       "      <td>0</td>\n",
       "      <td>0</td>\n",
       "      <td>0</td>\n",
       "      <td>0</td>\n",
       "      <td>20440</td>\n",
       "      <td>1777</td>\n",
       "      <td>5536</td>\n",
       "      <td>3851</td>\n",
       "      <td>2685</td>\n",
       "      <td>2091</td>\n",
       "      <td>1506</td>\n",
       "      <td>1071</td>\n",
       "      <td>1285</td>\n",
       "      <td>521</td>\n",
       "      <td>117</td>\n",
       "    </tr>\n",
       "    <tr>\n",
       "      <th>1</th>\n",
       "      <td>1985</td>\n",
       "      <td>0</td>\n",
       "      <td>0</td>\n",
       "      <td>0</td>\n",
       "      <td>0</td>\n",
       "      <td>20262</td>\n",
       "      <td>1602</td>\n",
       "      <td>5433</td>\n",
       "      <td>3771</td>\n",
       "      <td>2744</td>\n",
       "      <td>2105</td>\n",
       "      <td>1563</td>\n",
       "      <td>1100</td>\n",
       "      <td>1291</td>\n",
       "      <td>505</td>\n",
       "      <td>148</td>\n",
       "    </tr>\n",
       "    <tr>\n",
       "      <th>2</th>\n",
       "      <td>1986</td>\n",
       "      <td>0</td>\n",
       "      <td>0</td>\n",
       "      <td>0</td>\n",
       "      <td>0</td>\n",
       "      <td>20981</td>\n",
       "      <td>1628</td>\n",
       "      <td>5495</td>\n",
       "      <td>4124</td>\n",
       "      <td>2804</td>\n",
       "      <td>2182</td>\n",
       "      <td>1646</td>\n",
       "      <td>1116</td>\n",
       "      <td>1344</td>\n",
       "      <td>510</td>\n",
       "      <td>132</td>\n",
       "    </tr>\n",
       "    <tr>\n",
       "      <th>3</th>\n",
       "      <td>1987</td>\n",
       "      <td>0</td>\n",
       "      <td>0</td>\n",
       "      <td>0</td>\n",
       "      <td>0</td>\n",
       "      <td>20831</td>\n",
       "      <td>1709</td>\n",
       "      <td>5347</td>\n",
       "      <td>4042</td>\n",
       "      <td>2771</td>\n",
       "      <td>2122</td>\n",
       "      <td>1659</td>\n",
       "      <td>1108</td>\n",
       "      <td>1343</td>\n",
       "      <td>566</td>\n",
       "      <td>164</td>\n",
       "    </tr>\n",
       "    <tr>\n",
       "      <th>4</th>\n",
       "      <td>1988</td>\n",
       "      <td>0</td>\n",
       "      <td>0</td>\n",
       "      <td>0</td>\n",
       "      <td>0</td>\n",
       "      <td>20159</td>\n",
       "      <td>1536</td>\n",
       "      <td>5241</td>\n",
       "      <td>4003</td>\n",
       "      <td>2787</td>\n",
       "      <td>1973</td>\n",
       "      <td>1537</td>\n",
       "      <td>1146</td>\n",
       "      <td>1311</td>\n",
       "      <td>481</td>\n",
       "      <td>144</td>\n",
       "    </tr>\n",
       "  </tbody>\n",
       "</table>\n",
       "</div>"
      ],
      "text/plain": [
       "  Unnamed: 0  14 0  15 0  16 0  17 0  tot_adults  18 19  20 24  25 29  30 34  \\\n",
       "0       1984     0     0     0     0       20440   1777   5536   3851   2685   \n",
       "1       1985     0     0     0     0       20262   1602   5433   3771   2744   \n",
       "2       1986     0     0     0     0       20981   1628   5495   4124   2804   \n",
       "3       1987     0     0     0     0       20831   1709   5347   4042   2771   \n",
       "4       1988     0     0     0     0       20159   1536   5241   4003   2787   \n",
       "\n",
       "   35 39  40 44  45 49  50 59  60 69  70 0  \n",
       "0   2091   1506   1071   1285    521   117  \n",
       "1   2105   1563   1100   1291    505   148  \n",
       "2   2182   1646   1116   1344    510   132  \n",
       "3   2122   1659   1108   1343    566   164  \n",
       "4   1973   1537   1146   1311    481   144  "
      ]
     },
     "execution_count": 3,
     "metadata": {},
     "output_type": "execute_result"
    }
   ],
   "source": [
    "df.head()"
   ]
  },
  {
   "cell_type": "code",
   "execution_count": 4,
   "metadata": {},
   "outputs": [],
   "source": [
    "df['year'] = df['Unnamed: 0']"
   ]
  },
  {
   "cell_type": "code",
   "execution_count": 5,
   "metadata": {},
   "outputs": [
    {
     "data": {
      "text/html": [
       "<div>\n",
       "<style scoped>\n",
       "    .dataframe tbody tr th:only-of-type {\n",
       "        vertical-align: middle;\n",
       "    }\n",
       "\n",
       "    .dataframe tbody tr th {\n",
       "        vertical-align: top;\n",
       "    }\n",
       "\n",
       "    .dataframe thead th {\n",
       "        text-align: right;\n",
       "    }\n",
       "</style>\n",
       "<table border=\"1\" class=\"dataframe\">\n",
       "  <thead>\n",
       "    <tr style=\"text-align: right;\">\n",
       "      <th></th>\n",
       "      <th>Unnamed: 0</th>\n",
       "      <th>14 0</th>\n",
       "      <th>15 0</th>\n",
       "      <th>16 0</th>\n",
       "      <th>17 0</th>\n",
       "      <th>tot_adults</th>\n",
       "      <th>18 19</th>\n",
       "      <th>20 24</th>\n",
       "      <th>25 29</th>\n",
       "      <th>30 34</th>\n",
       "      <th>35 39</th>\n",
       "      <th>40 44</th>\n",
       "      <th>45 49</th>\n",
       "      <th>50 59</th>\n",
       "      <th>60 69</th>\n",
       "      <th>70 0</th>\n",
       "      <th>year</th>\n",
       "    </tr>\n",
       "  </thead>\n",
       "  <tbody>\n",
       "    <tr>\n",
       "      <th>0</th>\n",
       "      <td>1984</td>\n",
       "      <td>0</td>\n",
       "      <td>0</td>\n",
       "      <td>0</td>\n",
       "      <td>0</td>\n",
       "      <td>20440</td>\n",
       "      <td>1777</td>\n",
       "      <td>5536</td>\n",
       "      <td>3851</td>\n",
       "      <td>2685</td>\n",
       "      <td>2091</td>\n",
       "      <td>1506</td>\n",
       "      <td>1071</td>\n",
       "      <td>1285</td>\n",
       "      <td>521</td>\n",
       "      <td>117</td>\n",
       "      <td>1984</td>\n",
       "    </tr>\n",
       "    <tr>\n",
       "      <th>1</th>\n",
       "      <td>1985</td>\n",
       "      <td>0</td>\n",
       "      <td>0</td>\n",
       "      <td>0</td>\n",
       "      <td>0</td>\n",
       "      <td>20262</td>\n",
       "      <td>1602</td>\n",
       "      <td>5433</td>\n",
       "      <td>3771</td>\n",
       "      <td>2744</td>\n",
       "      <td>2105</td>\n",
       "      <td>1563</td>\n",
       "      <td>1100</td>\n",
       "      <td>1291</td>\n",
       "      <td>505</td>\n",
       "      <td>148</td>\n",
       "      <td>1985</td>\n",
       "    </tr>\n",
       "    <tr>\n",
       "      <th>2</th>\n",
       "      <td>1986</td>\n",
       "      <td>0</td>\n",
       "      <td>0</td>\n",
       "      <td>0</td>\n",
       "      <td>0</td>\n",
       "      <td>20981</td>\n",
       "      <td>1628</td>\n",
       "      <td>5495</td>\n",
       "      <td>4124</td>\n",
       "      <td>2804</td>\n",
       "      <td>2182</td>\n",
       "      <td>1646</td>\n",
       "      <td>1116</td>\n",
       "      <td>1344</td>\n",
       "      <td>510</td>\n",
       "      <td>132</td>\n",
       "      <td>1986</td>\n",
       "    </tr>\n",
       "    <tr>\n",
       "      <th>3</th>\n",
       "      <td>1987</td>\n",
       "      <td>0</td>\n",
       "      <td>0</td>\n",
       "      <td>0</td>\n",
       "      <td>0</td>\n",
       "      <td>20831</td>\n",
       "      <td>1709</td>\n",
       "      <td>5347</td>\n",
       "      <td>4042</td>\n",
       "      <td>2771</td>\n",
       "      <td>2122</td>\n",
       "      <td>1659</td>\n",
       "      <td>1108</td>\n",
       "      <td>1343</td>\n",
       "      <td>566</td>\n",
       "      <td>164</td>\n",
       "      <td>1987</td>\n",
       "    </tr>\n",
       "    <tr>\n",
       "      <th>4</th>\n",
       "      <td>1988</td>\n",
       "      <td>0</td>\n",
       "      <td>0</td>\n",
       "      <td>0</td>\n",
       "      <td>0</td>\n",
       "      <td>20159</td>\n",
       "      <td>1536</td>\n",
       "      <td>5241</td>\n",
       "      <td>4003</td>\n",
       "      <td>2787</td>\n",
       "      <td>1973</td>\n",
       "      <td>1537</td>\n",
       "      <td>1146</td>\n",
       "      <td>1311</td>\n",
       "      <td>481</td>\n",
       "      <td>144</td>\n",
       "      <td>1988</td>\n",
       "    </tr>\n",
       "  </tbody>\n",
       "</table>\n",
       "</div>"
      ],
      "text/plain": [
       "  Unnamed: 0  14 0  15 0  16 0  17 0  tot_adults  18 19  20 24  25 29  30 34  \\\n",
       "0       1984     0     0     0     0       20440   1777   5536   3851   2685   \n",
       "1       1985     0     0     0     0       20262   1602   5433   3771   2744   \n",
       "2       1986     0     0     0     0       20981   1628   5495   4124   2804   \n",
       "3       1987     0     0     0     0       20831   1709   5347   4042   2771   \n",
       "4       1988     0     0     0     0       20159   1536   5241   4003   2787   \n",
       "\n",
       "   35 39  40 44  45 49  50 59  60 69  70 0  year  \n",
       "0   2091   1506   1071   1285    521   117  1984  \n",
       "1   2105   1563   1100   1291    505   148  1985  \n",
       "2   2182   1646   1116   1344    510   132  1986  \n",
       "3   2122   1659   1108   1343    566   164  1987  \n",
       "4   1973   1537   1146   1311    481   144  1988  "
      ]
     },
     "execution_count": 5,
     "metadata": {},
     "output_type": "execute_result"
    }
   ],
   "source": [
    "df.head()"
   ]
  },
  {
   "cell_type": "code",
   "execution_count": 6,
   "metadata": {},
   "outputs": [],
   "source": [
    "df1 = pd.melt(df.drop(columns=['Unnamed: 0', 'tot_adults'], axis=1), id_vars='year', value_vars=[\"14 0\", \"15 0\", \"16 0\", \"17 0\",\n",
    "        '18 19',\n",
    "       '20 24', '25 29',\n",
    "       '30 34', '35 39',\n",
    "       '40 44', '45 49',\n",
    "       '50 59', '60 69',\n",
    "       \"70 0\"], var_name='age', value_name='crimes')"
   ]
  },
  {
   "cell_type": "markdown",
   "metadata": {},
   "source": [
    "df1 = pd.melt(df.drop(columns=['Unnamed: 0', 'tot_adults'], axis=1), id_vars='year', value_vars=['bis 14 Jahre', '15 Jahre', '16 Jahre', 'ab 17 Jahre',\n",
    "        'zwischen\\n18 und\\n19 Jahre',\n",
    "       'zwischen\\n20 und\\n24 Jahre', 'zwischen\\n25 und\\n29 Jahre',\n",
    "       'zwischen\\n30 und\\n34 Jahre', 'zwischen\\n35 und\\n39 Jahre',\n",
    "       'zwischen\\n40 und\\n44 Jahre', 'zwischen\\n45 und\\n49 Jahre',\n",
    "       'zwischen\\n50 und\\n59 Jahre', 'zwischen\\n60 und\\n69 Jahre',\n",
    "       '70 Jahre und älter'], var_name='age', value_name='crimes')"
   ]
  },
  {
   "cell_type": "code",
   "execution_count": 7,
   "metadata": {},
   "outputs": [
    {
     "data": {
      "text/html": [
       "<div>\n",
       "<style scoped>\n",
       "    .dataframe tbody tr th:only-of-type {\n",
       "        vertical-align: middle;\n",
       "    }\n",
       "\n",
       "    .dataframe tbody tr th {\n",
       "        vertical-align: top;\n",
       "    }\n",
       "\n",
       "    .dataframe thead th {\n",
       "        text-align: right;\n",
       "    }\n",
       "</style>\n",
       "<table border=\"1\" class=\"dataframe\">\n",
       "  <thead>\n",
       "    <tr style=\"text-align: right;\">\n",
       "      <th></th>\n",
       "      <th>year</th>\n",
       "      <th>age</th>\n",
       "      <th>crimes</th>\n",
       "    </tr>\n",
       "  </thead>\n",
       "  <tbody>\n",
       "    <tr>\n",
       "      <th>485</th>\n",
       "      <td>2014</td>\n",
       "      <td>70 0</td>\n",
       "      <td>635</td>\n",
       "    </tr>\n",
       "    <tr>\n",
       "      <th>486</th>\n",
       "      <td>2015</td>\n",
       "      <td>70 0</td>\n",
       "      <td>637</td>\n",
       "    </tr>\n",
       "    <tr>\n",
       "      <th>487</th>\n",
       "      <td>2016</td>\n",
       "      <td>70 0</td>\n",
       "      <td>738</td>\n",
       "    </tr>\n",
       "    <tr>\n",
       "      <th>488</th>\n",
       "      <td>2017</td>\n",
       "      <td>70 0</td>\n",
       "      <td>708</td>\n",
       "    </tr>\n",
       "    <tr>\n",
       "      <th>489</th>\n",
       "      <td>2018 2</td>\n",
       "      <td>70 0</td>\n",
       "      <td>718</td>\n",
       "    </tr>\n",
       "  </tbody>\n",
       "</table>\n",
       "</div>"
      ],
      "text/plain": [
       "       year   age  crimes\n",
       "485    2014  70 0     635\n",
       "486    2015  70 0     637\n",
       "487    2016  70 0     738\n",
       "488    2017  70 0     708\n",
       "489  2018 2  70 0     718"
      ]
     },
     "execution_count": 7,
     "metadata": {},
     "output_type": "execute_result"
    }
   ],
   "source": [
    "df1.tail()"
   ]
  },
  {
   "cell_type": "code",
   "execution_count": 8,
   "metadata": {},
   "outputs": [],
   "source": [
    "df1 = df1.astype(str)"
   ]
  },
  {
   "cell_type": "code",
   "execution_count": 9,
   "metadata": {},
   "outputs": [
    {
     "data": {
      "text/plain": [
       "year      object\n",
       "age       object\n",
       "crimes    object\n",
       "dtype: object"
      ]
     },
     "execution_count": 9,
     "metadata": {},
     "output_type": "execute_result"
    }
   ],
   "source": [
    "df1.dtypes"
   ]
  },
  {
   "cell_type": "code",
   "execution_count": 10,
   "metadata": {},
   "outputs": [],
   "source": [
    "df1['crime_year'] = df1['year']"
   ]
  },
  {
   "cell_type": "code",
   "execution_count": 11,
   "metadata": {},
   "outputs": [
    {
     "data": {
      "text/html": [
       "<div>\n",
       "<style scoped>\n",
       "    .dataframe tbody tr th:only-of-type {\n",
       "        vertical-align: middle;\n",
       "    }\n",
       "\n",
       "    .dataframe tbody tr th {\n",
       "        vertical-align: top;\n",
       "    }\n",
       "\n",
       "    .dataframe thead th {\n",
       "        text-align: right;\n",
       "    }\n",
       "</style>\n",
       "<table border=\"1\" class=\"dataframe\">\n",
       "  <thead>\n",
       "    <tr style=\"text-align: right;\">\n",
       "      <th></th>\n",
       "      <th>year</th>\n",
       "      <th>age</th>\n",
       "      <th>crimes</th>\n",
       "      <th>crime_year</th>\n",
       "    </tr>\n",
       "  </thead>\n",
       "  <tbody>\n",
       "    <tr>\n",
       "      <th>0</th>\n",
       "      <td>1984</td>\n",
       "      <td>14 0</td>\n",
       "      <td>0</td>\n",
       "      <td>1984</td>\n",
       "    </tr>\n",
       "    <tr>\n",
       "      <th>1</th>\n",
       "      <td>1985</td>\n",
       "      <td>14 0</td>\n",
       "      <td>0</td>\n",
       "      <td>1985</td>\n",
       "    </tr>\n",
       "    <tr>\n",
       "      <th>2</th>\n",
       "      <td>1986</td>\n",
       "      <td>14 0</td>\n",
       "      <td>0</td>\n",
       "      <td>1986</td>\n",
       "    </tr>\n",
       "    <tr>\n",
       "      <th>3</th>\n",
       "      <td>1987</td>\n",
       "      <td>14 0</td>\n",
       "      <td>0</td>\n",
       "      <td>1987</td>\n",
       "    </tr>\n",
       "    <tr>\n",
       "      <th>4</th>\n",
       "      <td>1988</td>\n",
       "      <td>14 0</td>\n",
       "      <td>0</td>\n",
       "      <td>1988</td>\n",
       "    </tr>\n",
       "  </tbody>\n",
       "</table>\n",
       "</div>"
      ],
      "text/plain": [
       "   year   age crimes crime_year\n",
       "0  1984  14 0      0       1984\n",
       "1  1985  14 0      0       1985\n",
       "2  1986  14 0      0       1986\n",
       "3  1987  14 0      0       1987\n",
       "4  1988  14 0      0       1988"
      ]
     },
     "execution_count": 11,
     "metadata": {},
     "output_type": "execute_result"
    }
   ],
   "source": [
    "df1.head()"
   ]
  },
  {
   "cell_type": "code",
   "execution_count": 12,
   "metadata": {},
   "outputs": [
    {
     "data": {
      "text/plain": [
       "0       1984\n",
       "1       1985\n",
       "2       1986\n",
       "3       1987\n",
       "4       1988\n",
       "5       1989\n",
       "6       1990\n",
       "7       1991\n",
       "8       1992\n",
       "9       1993\n",
       "10      1994\n",
       "11      1995\n",
       "12      1996\n",
       "13      1997\n",
       "14      1998\n",
       "15      1999\n",
       "16      2000\n",
       "17      2001\n",
       "18      2002\n",
       "19      2003\n",
       "20      2004\n",
       "21      2005\n",
       "22      2006\n",
       "23      2007\n",
       "24      2008\n",
       "25      2009\n",
       "26      2010\n",
       "27      2011\n",
       "28      2012\n",
       "29      2013\n",
       "       ...  \n",
       "460     1989\n",
       "461     1990\n",
       "462     1991\n",
       "463     1992\n",
       "464     1993\n",
       "465     1994\n",
       "466     1995\n",
       "467     1996\n",
       "468     1997\n",
       "469     1998\n",
       "470     1999\n",
       "471     2000\n",
       "472     2001\n",
       "473     2002\n",
       "474     2003\n",
       "475     2004\n",
       "476     2005\n",
       "477     2006\n",
       "478     2007\n",
       "479     2008\n",
       "480     2009\n",
       "481     2010\n",
       "482     2011\n",
       "483     2012\n",
       "484     2013\n",
       "485     2014\n",
       "486     2015\n",
       "487     2016\n",
       "488     2017\n",
       "489    2018 \n",
       "Name: year, Length: 490, dtype: object"
      ]
     },
     "execution_count": 12,
     "metadata": {},
     "output_type": "execute_result"
    }
   ],
   "source": [
    "df1.dtypes\n",
    "df1['year'] = df1.year.astype(str)\n",
    "df1.year.apply(lambda s: s[:5])"
   ]
  },
  {
   "cell_type": "code",
   "execution_count": 13,
   "metadata": {},
   "outputs": [],
   "source": [
    "df1['crime_year'] = df1['crime_year'].str.replace(\"2018 2\", \"2018\")"
   ]
  },
  {
   "cell_type": "code",
   "execution_count": 14,
   "metadata": {},
   "outputs": [
    {
     "data": {
      "text/html": [
       "<div>\n",
       "<style scoped>\n",
       "    .dataframe tbody tr th:only-of-type {\n",
       "        vertical-align: middle;\n",
       "    }\n",
       "\n",
       "    .dataframe tbody tr th {\n",
       "        vertical-align: top;\n",
       "    }\n",
       "\n",
       "    .dataframe thead th {\n",
       "        text-align: right;\n",
       "    }\n",
       "</style>\n",
       "<table border=\"1\" class=\"dataframe\">\n",
       "  <thead>\n",
       "    <tr style=\"text-align: right;\">\n",
       "      <th></th>\n",
       "      <th>year</th>\n",
       "      <th>age</th>\n",
       "      <th>crimes</th>\n",
       "      <th>crime_year</th>\n",
       "    </tr>\n",
       "  </thead>\n",
       "  <tbody>\n",
       "    <tr>\n",
       "      <th>0</th>\n",
       "      <td>1984</td>\n",
       "      <td>14 0</td>\n",
       "      <td>0</td>\n",
       "      <td>1984</td>\n",
       "    </tr>\n",
       "    <tr>\n",
       "      <th>1</th>\n",
       "      <td>1985</td>\n",
       "      <td>14 0</td>\n",
       "      <td>0</td>\n",
       "      <td>1985</td>\n",
       "    </tr>\n",
       "    <tr>\n",
       "      <th>2</th>\n",
       "      <td>1986</td>\n",
       "      <td>14 0</td>\n",
       "      <td>0</td>\n",
       "      <td>1986</td>\n",
       "    </tr>\n",
       "    <tr>\n",
       "      <th>3</th>\n",
       "      <td>1987</td>\n",
       "      <td>14 0</td>\n",
       "      <td>0</td>\n",
       "      <td>1987</td>\n",
       "    </tr>\n",
       "    <tr>\n",
       "      <th>4</th>\n",
       "      <td>1988</td>\n",
       "      <td>14 0</td>\n",
       "      <td>0</td>\n",
       "      <td>1988</td>\n",
       "    </tr>\n",
       "  </tbody>\n",
       "</table>\n",
       "</div>"
      ],
      "text/plain": [
       "   year   age crimes crime_year\n",
       "0  1984  14 0      0       1984\n",
       "1  1985  14 0      0       1985\n",
       "2  1986  14 0      0       1986\n",
       "3  1987  14 0      0       1987\n",
       "4  1988  14 0      0       1988"
      ]
     },
     "execution_count": 14,
     "metadata": {},
     "output_type": "execute_result"
    }
   ],
   "source": [
    "df1.head()"
   ]
  },
  {
   "cell_type": "code",
   "execution_count": 15,
   "metadata": {},
   "outputs": [],
   "source": [
    "df1 = df1.drop('year', 1)"
   ]
  },
  {
   "cell_type": "code",
   "execution_count": 16,
   "metadata": {},
   "outputs": [
    {
     "data": {
      "text/plain": [
       "16 0     35\n",
       "18 19    35\n",
       "30 34    35\n",
       "70 0     35\n",
       "25 29    35\n",
       "40 44    35\n",
       "20 24    35\n",
       "45 49    35\n",
       "14 0     35\n",
       "35 39    35\n",
       "50 59    35\n",
       "60 69    35\n",
       "15 0     35\n",
       "17 0     35\n",
       "Name: age, dtype: int64"
      ]
     },
     "execution_count": 16,
     "metadata": {},
     "output_type": "execute_result"
    }
   ],
   "source": [
    "df1.age.value_counts()"
   ]
  },
  {
   "cell_type": "code",
   "execution_count": 17,
   "metadata": {},
   "outputs": [
    {
     "data": {
      "text/html": [
       "<div>\n",
       "<style scoped>\n",
       "    .dataframe tbody tr th:only-of-type {\n",
       "        vertical-align: middle;\n",
       "    }\n",
       "\n",
       "    .dataframe tbody tr th {\n",
       "        vertical-align: top;\n",
       "    }\n",
       "\n",
       "    .dataframe thead th {\n",
       "        text-align: right;\n",
       "    }\n",
       "</style>\n",
       "<table border=\"1\" class=\"dataframe\">\n",
       "  <thead>\n",
       "    <tr style=\"text-align: right;\">\n",
       "      <th></th>\n",
       "      <th>age</th>\n",
       "      <th>crimes</th>\n",
       "      <th>crime_year</th>\n",
       "    </tr>\n",
       "  </thead>\n",
       "  <tbody>\n",
       "    <tr>\n",
       "      <th>391</th>\n",
       "      <td>50 59</td>\n",
       "      <td>1200</td>\n",
       "      <td>1990</td>\n",
       "    </tr>\n",
       "    <tr>\n",
       "      <th>282</th>\n",
       "      <td>35 39</td>\n",
       "      <td>2182</td>\n",
       "      <td>1986</td>\n",
       "    </tr>\n",
       "  </tbody>\n",
       "</table>\n",
       "</div>"
      ],
      "text/plain": [
       "       age crimes crime_year\n",
       "391  50 59   1200       1990\n",
       "282  35 39   2182       1986"
      ]
     },
     "execution_count": 17,
     "metadata": {},
     "output_type": "execute_result"
    }
   ],
   "source": [
    "df1.sample(2)"
   ]
  },
  {
   "cell_type": "code",
   "execution_count": 18,
   "metadata": {},
   "outputs": [
    {
     "data": {
      "text/html": [
       "<div>\n",
       "<style scoped>\n",
       "    .dataframe tbody tr th:only-of-type {\n",
       "        vertical-align: middle;\n",
       "    }\n",
       "\n",
       "    .dataframe tbody tr th {\n",
       "        vertical-align: top;\n",
       "    }\n",
       "\n",
       "    .dataframe thead th {\n",
       "        text-align: right;\n",
       "    }\n",
       "</style>\n",
       "<table border=\"1\" class=\"dataframe\">\n",
       "  <thead>\n",
       "    <tr style=\"text-align: right;\">\n",
       "      <th></th>\n",
       "      <th>age</th>\n",
       "      <th>crimes</th>\n",
       "      <th>crime_year</th>\n",
       "    </tr>\n",
       "  </thead>\n",
       "  <tbody>\n",
       "    <tr>\n",
       "      <th>0</th>\n",
       "      <td>14 0</td>\n",
       "      <td>0</td>\n",
       "      <td>1984</td>\n",
       "    </tr>\n",
       "    <tr>\n",
       "      <th>1</th>\n",
       "      <td>14 0</td>\n",
       "      <td>0</td>\n",
       "      <td>1985</td>\n",
       "    </tr>\n",
       "    <tr>\n",
       "      <th>2</th>\n",
       "      <td>14 0</td>\n",
       "      <td>0</td>\n",
       "      <td>1986</td>\n",
       "    </tr>\n",
       "    <tr>\n",
       "      <th>3</th>\n",
       "      <td>14 0</td>\n",
       "      <td>0</td>\n",
       "      <td>1987</td>\n",
       "    </tr>\n",
       "    <tr>\n",
       "      <th>4</th>\n",
       "      <td>14 0</td>\n",
       "      <td>0</td>\n",
       "      <td>1988</td>\n",
       "    </tr>\n",
       "  </tbody>\n",
       "</table>\n",
       "</div>"
      ],
      "text/plain": [
       "    age crimes crime_year\n",
       "0  14 0      0       1984\n",
       "1  14 0      0       1985\n",
       "2  14 0      0       1986\n",
       "3  14 0      0       1987\n",
       "4  14 0      0       1988"
      ]
     },
     "execution_count": 18,
     "metadata": {},
     "output_type": "execute_result"
    }
   ],
   "source": [
    "df1.head()"
   ]
  },
  {
   "cell_type": "code",
   "execution_count": 19,
   "metadata": {},
   "outputs": [],
   "source": [
    "df1.to_csv('data_crimes.csv')"
   ]
  },
  {
   "cell_type": "code",
   "execution_count": 20,
   "metadata": {},
   "outputs": [],
   "source": [
    "df1 = pd.read_csv('data_crimes.csv')"
   ]
  },
  {
   "cell_type": "code",
   "execution_count": 21,
   "metadata": {},
   "outputs": [
    {
     "data": {
      "text/html": [
       "<div>\n",
       "<style scoped>\n",
       "    .dataframe tbody tr th:only-of-type {\n",
       "        vertical-align: middle;\n",
       "    }\n",
       "\n",
       "    .dataframe tbody tr th {\n",
       "        vertical-align: top;\n",
       "    }\n",
       "\n",
       "    .dataframe thead th {\n",
       "        text-align: right;\n",
       "    }\n",
       "</style>\n",
       "<table border=\"1\" class=\"dataframe\">\n",
       "  <thead>\n",
       "    <tr style=\"text-align: right;\">\n",
       "      <th></th>\n",
       "      <th>Unnamed: 0</th>\n",
       "      <th>age</th>\n",
       "      <th>crimes</th>\n",
       "      <th>crime_year</th>\n",
       "    </tr>\n",
       "  </thead>\n",
       "  <tbody>\n",
       "    <tr>\n",
       "      <th>0</th>\n",
       "      <td>0</td>\n",
       "      <td>14 0</td>\n",
       "      <td>0</td>\n",
       "      <td>1984</td>\n",
       "    </tr>\n",
       "    <tr>\n",
       "      <th>1</th>\n",
       "      <td>1</td>\n",
       "      <td>14 0</td>\n",
       "      <td>0</td>\n",
       "      <td>1985</td>\n",
       "    </tr>\n",
       "    <tr>\n",
       "      <th>2</th>\n",
       "      <td>2</td>\n",
       "      <td>14 0</td>\n",
       "      <td>0</td>\n",
       "      <td>1986</td>\n",
       "    </tr>\n",
       "    <tr>\n",
       "      <th>3</th>\n",
       "      <td>3</td>\n",
       "      <td>14 0</td>\n",
       "      <td>0</td>\n",
       "      <td>1987</td>\n",
       "    </tr>\n",
       "    <tr>\n",
       "      <th>4</th>\n",
       "      <td>4</td>\n",
       "      <td>14 0</td>\n",
       "      <td>0</td>\n",
       "      <td>1988</td>\n",
       "    </tr>\n",
       "  </tbody>\n",
       "</table>\n",
       "</div>"
      ],
      "text/plain": [
       "   Unnamed: 0   age  crimes  crime_year\n",
       "0           0  14 0       0        1984\n",
       "1           1  14 0       0        1985\n",
       "2           2  14 0       0        1986\n",
       "3           3  14 0       0        1987\n",
       "4           4  14 0       0        1988"
      ]
     },
     "execution_count": 21,
     "metadata": {},
     "output_type": "execute_result"
    }
   ],
   "source": [
    "df1.head()"
   ]
  },
  {
   "cell_type": "code",
   "execution_count": 22,
   "metadata": {},
   "outputs": [],
   "source": [
    "df1['age1'] = df1.age.astype(str).str.extract(\"(\\d{2})\")"
   ]
  },
  {
   "cell_type": "code",
   "execution_count": 23,
   "metadata": {},
   "outputs": [],
   "source": [
    "df1['age2'] = df1.age.astype(str).str.extract(\"(\\d+$)\")"
   ]
  },
  {
   "cell_type": "code",
   "execution_count": 24,
   "metadata": {},
   "outputs": [
    {
     "data": {
      "text/html": [
       "<div>\n",
       "<style scoped>\n",
       "    .dataframe tbody tr th:only-of-type {\n",
       "        vertical-align: middle;\n",
       "    }\n",
       "\n",
       "    .dataframe tbody tr th {\n",
       "        vertical-align: top;\n",
       "    }\n",
       "\n",
       "    .dataframe thead th {\n",
       "        text-align: right;\n",
       "    }\n",
       "</style>\n",
       "<table border=\"1\" class=\"dataframe\">\n",
       "  <thead>\n",
       "    <tr style=\"text-align: right;\">\n",
       "      <th></th>\n",
       "      <th>Unnamed: 0</th>\n",
       "      <th>age</th>\n",
       "      <th>crimes</th>\n",
       "      <th>crime_year</th>\n",
       "      <th>age1</th>\n",
       "      <th>age2</th>\n",
       "    </tr>\n",
       "  </thead>\n",
       "  <tbody>\n",
       "    <tr>\n",
       "      <th>0</th>\n",
       "      <td>0</td>\n",
       "      <td>14 0</td>\n",
       "      <td>0</td>\n",
       "      <td>1984</td>\n",
       "      <td>14</td>\n",
       "      <td>0</td>\n",
       "    </tr>\n",
       "    <tr>\n",
       "      <th>1</th>\n",
       "      <td>1</td>\n",
       "      <td>14 0</td>\n",
       "      <td>0</td>\n",
       "      <td>1985</td>\n",
       "      <td>14</td>\n",
       "      <td>0</td>\n",
       "    </tr>\n",
       "    <tr>\n",
       "      <th>2</th>\n",
       "      <td>2</td>\n",
       "      <td>14 0</td>\n",
       "      <td>0</td>\n",
       "      <td>1986</td>\n",
       "      <td>14</td>\n",
       "      <td>0</td>\n",
       "    </tr>\n",
       "    <tr>\n",
       "      <th>3</th>\n",
       "      <td>3</td>\n",
       "      <td>14 0</td>\n",
       "      <td>0</td>\n",
       "      <td>1987</td>\n",
       "      <td>14</td>\n",
       "      <td>0</td>\n",
       "    </tr>\n",
       "    <tr>\n",
       "      <th>4</th>\n",
       "      <td>4</td>\n",
       "      <td>14 0</td>\n",
       "      <td>0</td>\n",
       "      <td>1988</td>\n",
       "      <td>14</td>\n",
       "      <td>0</td>\n",
       "    </tr>\n",
       "  </tbody>\n",
       "</table>\n",
       "</div>"
      ],
      "text/plain": [
       "   Unnamed: 0   age  crimes  crime_year age1 age2\n",
       "0           0  14 0       0        1984   14    0\n",
       "1           1  14 0       0        1985   14    0\n",
       "2           2  14 0       0        1986   14    0\n",
       "3           3  14 0       0        1987   14    0\n",
       "4           4  14 0       0        1988   14    0"
      ]
     },
     "execution_count": 24,
     "metadata": {},
     "output_type": "execute_result"
    }
   ],
   "source": [
    "df1.head()"
   ]
  },
  {
   "cell_type": "code",
   "execution_count": 25,
   "metadata": {},
   "outputs": [],
   "source": [
    "df1['birth_year1'] = df1.crime_year.astype(int) - df1.age1.astype(int)"
   ]
  },
  {
   "cell_type": "code",
   "execution_count": 26,
   "metadata": {},
   "outputs": [
    {
     "data": {
      "text/html": [
       "<div>\n",
       "<style scoped>\n",
       "    .dataframe tbody tr th:only-of-type {\n",
       "        vertical-align: middle;\n",
       "    }\n",
       "\n",
       "    .dataframe tbody tr th {\n",
       "        vertical-align: top;\n",
       "    }\n",
       "\n",
       "    .dataframe thead th {\n",
       "        text-align: right;\n",
       "    }\n",
       "</style>\n",
       "<table border=\"1\" class=\"dataframe\">\n",
       "  <thead>\n",
       "    <tr style=\"text-align: right;\">\n",
       "      <th></th>\n",
       "      <th>Unnamed: 0</th>\n",
       "      <th>age</th>\n",
       "      <th>crimes</th>\n",
       "      <th>crime_year</th>\n",
       "      <th>age1</th>\n",
       "      <th>age2</th>\n",
       "      <th>birth_year1</th>\n",
       "    </tr>\n",
       "  </thead>\n",
       "  <tbody>\n",
       "    <tr>\n",
       "      <th>0</th>\n",
       "      <td>0</td>\n",
       "      <td>14 0</td>\n",
       "      <td>0</td>\n",
       "      <td>1984</td>\n",
       "      <td>14</td>\n",
       "      <td>0</td>\n",
       "      <td>1970</td>\n",
       "    </tr>\n",
       "    <tr>\n",
       "      <th>1</th>\n",
       "      <td>1</td>\n",
       "      <td>14 0</td>\n",
       "      <td>0</td>\n",
       "      <td>1985</td>\n",
       "      <td>14</td>\n",
       "      <td>0</td>\n",
       "      <td>1971</td>\n",
       "    </tr>\n",
       "    <tr>\n",
       "      <th>2</th>\n",
       "      <td>2</td>\n",
       "      <td>14 0</td>\n",
       "      <td>0</td>\n",
       "      <td>1986</td>\n",
       "      <td>14</td>\n",
       "      <td>0</td>\n",
       "      <td>1972</td>\n",
       "    </tr>\n",
       "    <tr>\n",
       "      <th>3</th>\n",
       "      <td>3</td>\n",
       "      <td>14 0</td>\n",
       "      <td>0</td>\n",
       "      <td>1987</td>\n",
       "      <td>14</td>\n",
       "      <td>0</td>\n",
       "      <td>1973</td>\n",
       "    </tr>\n",
       "    <tr>\n",
       "      <th>4</th>\n",
       "      <td>4</td>\n",
       "      <td>14 0</td>\n",
       "      <td>0</td>\n",
       "      <td>1988</td>\n",
       "      <td>14</td>\n",
       "      <td>0</td>\n",
       "      <td>1974</td>\n",
       "    </tr>\n",
       "  </tbody>\n",
       "</table>\n",
       "</div>"
      ],
      "text/plain": [
       "   Unnamed: 0   age  crimes  crime_year age1 age2  birth_year1\n",
       "0           0  14 0       0        1984   14    0         1970\n",
       "1           1  14 0       0        1985   14    0         1971\n",
       "2           2  14 0       0        1986   14    0         1972\n",
       "3           3  14 0       0        1987   14    0         1973\n",
       "4           4  14 0       0        1988   14    0         1974"
      ]
     },
     "execution_count": 26,
     "metadata": {},
     "output_type": "execute_result"
    }
   ],
   "source": [
    "df1.head()"
   ]
  },
  {
   "cell_type": "code",
   "execution_count": 27,
   "metadata": {},
   "outputs": [],
   "source": [
    "df1['birth_year2'] = df1.crime_year.astype(int) - df1.age2.astype(int)"
   ]
  },
  {
   "cell_type": "code",
   "execution_count": 28,
   "metadata": {},
   "outputs": [
    {
     "data": {
      "text/html": [
       "<div>\n",
       "<style scoped>\n",
       "    .dataframe tbody tr th:only-of-type {\n",
       "        vertical-align: middle;\n",
       "    }\n",
       "\n",
       "    .dataframe tbody tr th {\n",
       "        vertical-align: top;\n",
       "    }\n",
       "\n",
       "    .dataframe thead th {\n",
       "        text-align: right;\n",
       "    }\n",
       "</style>\n",
       "<table border=\"1\" class=\"dataframe\">\n",
       "  <thead>\n",
       "    <tr style=\"text-align: right;\">\n",
       "      <th></th>\n",
       "      <th>Unnamed: 0</th>\n",
       "      <th>age</th>\n",
       "      <th>crimes</th>\n",
       "      <th>crime_year</th>\n",
       "      <th>age1</th>\n",
       "      <th>age2</th>\n",
       "      <th>birth_year1</th>\n",
       "      <th>birth_year2</th>\n",
       "    </tr>\n",
       "  </thead>\n",
       "  <tbody>\n",
       "    <tr>\n",
       "      <th>0</th>\n",
       "      <td>0</td>\n",
       "      <td>14 0</td>\n",
       "      <td>0</td>\n",
       "      <td>1984</td>\n",
       "      <td>14</td>\n",
       "      <td>0</td>\n",
       "      <td>1970</td>\n",
       "      <td>1984</td>\n",
       "    </tr>\n",
       "    <tr>\n",
       "      <th>1</th>\n",
       "      <td>1</td>\n",
       "      <td>14 0</td>\n",
       "      <td>0</td>\n",
       "      <td>1985</td>\n",
       "      <td>14</td>\n",
       "      <td>0</td>\n",
       "      <td>1971</td>\n",
       "      <td>1985</td>\n",
       "    </tr>\n",
       "    <tr>\n",
       "      <th>2</th>\n",
       "      <td>2</td>\n",
       "      <td>14 0</td>\n",
       "      <td>0</td>\n",
       "      <td>1986</td>\n",
       "      <td>14</td>\n",
       "      <td>0</td>\n",
       "      <td>1972</td>\n",
       "      <td>1986</td>\n",
       "    </tr>\n",
       "    <tr>\n",
       "      <th>3</th>\n",
       "      <td>3</td>\n",
       "      <td>14 0</td>\n",
       "      <td>0</td>\n",
       "      <td>1987</td>\n",
       "      <td>14</td>\n",
       "      <td>0</td>\n",
       "      <td>1973</td>\n",
       "      <td>1987</td>\n",
       "    </tr>\n",
       "    <tr>\n",
       "      <th>4</th>\n",
       "      <td>4</td>\n",
       "      <td>14 0</td>\n",
       "      <td>0</td>\n",
       "      <td>1988</td>\n",
       "      <td>14</td>\n",
       "      <td>0</td>\n",
       "      <td>1974</td>\n",
       "      <td>1988</td>\n",
       "    </tr>\n",
       "    <tr>\n",
       "      <th>5</th>\n",
       "      <td>5</td>\n",
       "      <td>14 0</td>\n",
       "      <td>0</td>\n",
       "      <td>1989</td>\n",
       "      <td>14</td>\n",
       "      <td>0</td>\n",
       "      <td>1975</td>\n",
       "      <td>1989</td>\n",
       "    </tr>\n",
       "    <tr>\n",
       "      <th>6</th>\n",
       "      <td>6</td>\n",
       "      <td>14 0</td>\n",
       "      <td>0</td>\n",
       "      <td>1990</td>\n",
       "      <td>14</td>\n",
       "      <td>0</td>\n",
       "      <td>1976</td>\n",
       "      <td>1990</td>\n",
       "    </tr>\n",
       "    <tr>\n",
       "      <th>7</th>\n",
       "      <td>7</td>\n",
       "      <td>14 0</td>\n",
       "      <td>0</td>\n",
       "      <td>1991</td>\n",
       "      <td>14</td>\n",
       "      <td>0</td>\n",
       "      <td>1977</td>\n",
       "      <td>1991</td>\n",
       "    </tr>\n",
       "    <tr>\n",
       "      <th>8</th>\n",
       "      <td>8</td>\n",
       "      <td>14 0</td>\n",
       "      <td>0</td>\n",
       "      <td>1992</td>\n",
       "      <td>14</td>\n",
       "      <td>0</td>\n",
       "      <td>1978</td>\n",
       "      <td>1992</td>\n",
       "    </tr>\n",
       "    <tr>\n",
       "      <th>9</th>\n",
       "      <td>9</td>\n",
       "      <td>14 0</td>\n",
       "      <td>0</td>\n",
       "      <td>1993</td>\n",
       "      <td>14</td>\n",
       "      <td>0</td>\n",
       "      <td>1979</td>\n",
       "      <td>1993</td>\n",
       "    </tr>\n",
       "  </tbody>\n",
       "</table>\n",
       "</div>"
      ],
      "text/plain": [
       "   Unnamed: 0   age  crimes  crime_year age1 age2  birth_year1  birth_year2\n",
       "0           0  14 0       0        1984   14    0         1970         1984\n",
       "1           1  14 0       0        1985   14    0         1971         1985\n",
       "2           2  14 0       0        1986   14    0         1972         1986\n",
       "3           3  14 0       0        1987   14    0         1973         1987\n",
       "4           4  14 0       0        1988   14    0         1974         1988\n",
       "5           5  14 0       0        1989   14    0         1975         1989\n",
       "6           6  14 0       0        1990   14    0         1976         1990\n",
       "7           7  14 0       0        1991   14    0         1977         1991\n",
       "8           8  14 0       0        1992   14    0         1978         1992\n",
       "9           9  14 0       0        1993   14    0         1979         1993"
      ]
     },
     "execution_count": 28,
     "metadata": {},
     "output_type": "execute_result"
    }
   ],
   "source": [
    "df1.head(10)"
   ]
  },
  {
   "cell_type": "code",
   "execution_count": 29,
   "metadata": {},
   "outputs": [],
   "source": [
    "df1['cohort'] = df1['birth_year1']"
   ]
  },
  {
   "cell_type": "code",
   "execution_count": 30,
   "metadata": {},
   "outputs": [
    {
     "data": {
      "text/html": [
       "<div>\n",
       "<style scoped>\n",
       "    .dataframe tbody tr th:only-of-type {\n",
       "        vertical-align: middle;\n",
       "    }\n",
       "\n",
       "    .dataframe tbody tr th {\n",
       "        vertical-align: top;\n",
       "    }\n",
       "\n",
       "    .dataframe thead th {\n",
       "        text-align: right;\n",
       "    }\n",
       "</style>\n",
       "<table border=\"1\" class=\"dataframe\">\n",
       "  <thead>\n",
       "    <tr style=\"text-align: right;\">\n",
       "      <th></th>\n",
       "      <th>Unnamed: 0</th>\n",
       "      <th>age</th>\n",
       "      <th>crimes</th>\n",
       "      <th>crime_year</th>\n",
       "      <th>age1</th>\n",
       "      <th>age2</th>\n",
       "      <th>birth_year1</th>\n",
       "      <th>birth_year2</th>\n",
       "      <th>cohort</th>\n",
       "    </tr>\n",
       "  </thead>\n",
       "  <tbody>\n",
       "    <tr>\n",
       "      <th>0</th>\n",
       "      <td>0</td>\n",
       "      <td>14 0</td>\n",
       "      <td>0</td>\n",
       "      <td>1984</td>\n",
       "      <td>14</td>\n",
       "      <td>0</td>\n",
       "      <td>1970</td>\n",
       "      <td>1984</td>\n",
       "      <td>1970</td>\n",
       "    </tr>\n",
       "    <tr>\n",
       "      <th>1</th>\n",
       "      <td>1</td>\n",
       "      <td>14 0</td>\n",
       "      <td>0</td>\n",
       "      <td>1985</td>\n",
       "      <td>14</td>\n",
       "      <td>0</td>\n",
       "      <td>1971</td>\n",
       "      <td>1985</td>\n",
       "      <td>1971</td>\n",
       "    </tr>\n",
       "    <tr>\n",
       "      <th>2</th>\n",
       "      <td>2</td>\n",
       "      <td>14 0</td>\n",
       "      <td>0</td>\n",
       "      <td>1986</td>\n",
       "      <td>14</td>\n",
       "      <td>0</td>\n",
       "      <td>1972</td>\n",
       "      <td>1986</td>\n",
       "      <td>1972</td>\n",
       "    </tr>\n",
       "    <tr>\n",
       "      <th>3</th>\n",
       "      <td>3</td>\n",
       "      <td>14 0</td>\n",
       "      <td>0</td>\n",
       "      <td>1987</td>\n",
       "      <td>14</td>\n",
       "      <td>0</td>\n",
       "      <td>1973</td>\n",
       "      <td>1987</td>\n",
       "      <td>1973</td>\n",
       "    </tr>\n",
       "    <tr>\n",
       "      <th>4</th>\n",
       "      <td>4</td>\n",
       "      <td>14 0</td>\n",
       "      <td>0</td>\n",
       "      <td>1988</td>\n",
       "      <td>14</td>\n",
       "      <td>0</td>\n",
       "      <td>1974</td>\n",
       "      <td>1988</td>\n",
       "      <td>1974</td>\n",
       "    </tr>\n",
       "  </tbody>\n",
       "</table>\n",
       "</div>"
      ],
      "text/plain": [
       "   Unnamed: 0   age  crimes  crime_year age1 age2  birth_year1  birth_year2  \\\n",
       "0           0  14 0       0        1984   14    0         1970         1984   \n",
       "1           1  14 0       0        1985   14    0         1971         1985   \n",
       "2           2  14 0       0        1986   14    0         1972         1986   \n",
       "3           3  14 0       0        1987   14    0         1973         1987   \n",
       "4           4  14 0       0        1988   14    0         1974         1988   \n",
       "\n",
       "   cohort  \n",
       "0    1970  \n",
       "1    1971  \n",
       "2    1972  \n",
       "3    1973  \n",
       "4    1974  "
      ]
     },
     "execution_count": 30,
     "metadata": {},
     "output_type": "execute_result"
    }
   ],
   "source": [
    "df1.head()"
   ]
  },
  {
   "cell_type": "code",
   "execution_count": 31,
   "metadata": {},
   "outputs": [],
   "source": [
    "\n",
    "# df['my_channel'].mask(df['my_channel'] > 20000, 0, inplace=True)\n"
   ]
  },
  {
   "cell_type": "code",
   "execution_count": 32,
   "metadata": {},
   "outputs": [
    {
     "data": {
      "text/html": [
       "<div>\n",
       "<style scoped>\n",
       "    .dataframe tbody tr th:only-of-type {\n",
       "        vertical-align: middle;\n",
       "    }\n",
       "\n",
       "    .dataframe tbody tr th {\n",
       "        vertical-align: top;\n",
       "    }\n",
       "\n",
       "    .dataframe thead th {\n",
       "        text-align: right;\n",
       "    }\n",
       "</style>\n",
       "<table border=\"1\" class=\"dataframe\">\n",
       "  <thead>\n",
       "    <tr style=\"text-align: right;\">\n",
       "      <th></th>\n",
       "      <th>Unnamed: 0</th>\n",
       "      <th>age</th>\n",
       "      <th>crimes</th>\n",
       "      <th>crime_year</th>\n",
       "      <th>age1</th>\n",
       "      <th>age2</th>\n",
       "      <th>birth_year1</th>\n",
       "      <th>birth_year2</th>\n",
       "      <th>cohort</th>\n",
       "    </tr>\n",
       "  </thead>\n",
       "  <tbody>\n",
       "    <tr>\n",
       "      <th>328</th>\n",
       "      <td>328</td>\n",
       "      <td>40 44</td>\n",
       "      <td>1807</td>\n",
       "      <td>1997</td>\n",
       "      <td>40</td>\n",
       "      <td>44</td>\n",
       "      <td>1957</td>\n",
       "      <td>1953</td>\n",
       "      <td>1957</td>\n",
       "    </tr>\n",
       "  </tbody>\n",
       "</table>\n",
       "</div>"
      ],
      "text/plain": [
       "     Unnamed: 0    age  crimes  crime_year age1 age2  birth_year1  \\\n",
       "328         328  40 44    1807        1997   40   44         1957   \n",
       "\n",
       "     birth_year2  cohort  \n",
       "328         1953    1957  "
      ]
     },
     "execution_count": 32,
     "metadata": {},
     "output_type": "execute_result"
    }
   ],
   "source": [
    "df1.sample()"
   ]
  },
  {
   "cell_type": "code",
   "execution_count": 33,
   "metadata": {},
   "outputs": [],
   "source": [
    "df1.loc[df1['crime_year'] != df1['birth_year2'], 'cohort'] = df1[['birth_year2','birth_year1']]"
   ]
  },
  {
   "cell_type": "code",
   "execution_count": 34,
   "metadata": {},
   "outputs": [
    {
     "data": {
      "text/html": [
       "<div>\n",
       "<style scoped>\n",
       "    .dataframe tbody tr th:only-of-type {\n",
       "        vertical-align: middle;\n",
       "    }\n",
       "\n",
       "    .dataframe tbody tr th {\n",
       "        vertical-align: top;\n",
       "    }\n",
       "\n",
       "    .dataframe thead th {\n",
       "        text-align: right;\n",
       "    }\n",
       "</style>\n",
       "<table border=\"1\" class=\"dataframe\">\n",
       "  <thead>\n",
       "    <tr style=\"text-align: right;\">\n",
       "      <th></th>\n",
       "      <th>Unnamed: 0</th>\n",
       "      <th>age</th>\n",
       "      <th>crimes</th>\n",
       "      <th>crime_year</th>\n",
       "      <th>age1</th>\n",
       "      <th>age2</th>\n",
       "      <th>birth_year1</th>\n",
       "      <th>birth_year2</th>\n",
       "      <th>cohort</th>\n",
       "    </tr>\n",
       "  </thead>\n",
       "  <tbody>\n",
       "    <tr>\n",
       "      <th>0</th>\n",
       "      <td>0</td>\n",
       "      <td>14 0</td>\n",
       "      <td>0</td>\n",
       "      <td>1984</td>\n",
       "      <td>14</td>\n",
       "      <td>0</td>\n",
       "      <td>1970</td>\n",
       "      <td>1984</td>\n",
       "      <td>1970.0</td>\n",
       "    </tr>\n",
       "    <tr>\n",
       "      <th>1</th>\n",
       "      <td>1</td>\n",
       "      <td>14 0</td>\n",
       "      <td>0</td>\n",
       "      <td>1985</td>\n",
       "      <td>14</td>\n",
       "      <td>0</td>\n",
       "      <td>1971</td>\n",
       "      <td>1985</td>\n",
       "      <td>1971.0</td>\n",
       "    </tr>\n",
       "    <tr>\n",
       "      <th>2</th>\n",
       "      <td>2</td>\n",
       "      <td>14 0</td>\n",
       "      <td>0</td>\n",
       "      <td>1986</td>\n",
       "      <td>14</td>\n",
       "      <td>0</td>\n",
       "      <td>1972</td>\n",
       "      <td>1986</td>\n",
       "      <td>1972.0</td>\n",
       "    </tr>\n",
       "    <tr>\n",
       "      <th>3</th>\n",
       "      <td>3</td>\n",
       "      <td>14 0</td>\n",
       "      <td>0</td>\n",
       "      <td>1987</td>\n",
       "      <td>14</td>\n",
       "      <td>0</td>\n",
       "      <td>1973</td>\n",
       "      <td>1987</td>\n",
       "      <td>1973.0</td>\n",
       "    </tr>\n",
       "    <tr>\n",
       "      <th>4</th>\n",
       "      <td>4</td>\n",
       "      <td>14 0</td>\n",
       "      <td>0</td>\n",
       "      <td>1988</td>\n",
       "      <td>14</td>\n",
       "      <td>0</td>\n",
       "      <td>1974</td>\n",
       "      <td>1988</td>\n",
       "      <td>1974.0</td>\n",
       "    </tr>\n",
       "  </tbody>\n",
       "</table>\n",
       "</div>"
      ],
      "text/plain": [
       "   Unnamed: 0   age  crimes  crime_year age1 age2  birth_year1  birth_year2  \\\n",
       "0           0  14 0       0        1984   14    0         1970         1984   \n",
       "1           1  14 0       0        1985   14    0         1971         1985   \n",
       "2           2  14 0       0        1986   14    0         1972         1986   \n",
       "3           3  14 0       0        1987   14    0         1973         1987   \n",
       "4           4  14 0       0        1988   14    0         1974         1988   \n",
       "\n",
       "   cohort  \n",
       "0  1970.0  \n",
       "1  1971.0  \n",
       "2  1972.0  \n",
       "3  1973.0  \n",
       "4  1974.0  "
      ]
     },
     "execution_count": 34,
     "metadata": {},
     "output_type": "execute_result"
    }
   ],
   "source": [
    "df1.head()"
   ]
  },
  {
   "cell_type": "code",
   "execution_count": 35,
   "metadata": {},
   "outputs": [],
   "source": [
    "# df1['cohort'] = [df1.birth_year1 if x == 0 for x in df1['age2']]\n",
    "\n",
    "# df1['cohort'] = np.where(df1['age2']==0, df1.birth_year1)\n",
    "\n",
    "\n",
    "df1 = df1.assign(cohort=(df1.birth_year1).where(df1.age2 == 0))\n"
   ]
  },
  {
   "cell_type": "code",
   "execution_count": 36,
   "metadata": {},
   "outputs": [
    {
     "data": {
      "text/html": [
       "<div>\n",
       "<style scoped>\n",
       "    .dataframe tbody tr th:only-of-type {\n",
       "        vertical-align: middle;\n",
       "    }\n",
       "\n",
       "    .dataframe tbody tr th {\n",
       "        vertical-align: top;\n",
       "    }\n",
       "\n",
       "    .dataframe thead th {\n",
       "        text-align: right;\n",
       "    }\n",
       "</style>\n",
       "<table border=\"1\" class=\"dataframe\">\n",
       "  <thead>\n",
       "    <tr style=\"text-align: right;\">\n",
       "      <th></th>\n",
       "      <th>Unnamed: 0</th>\n",
       "      <th>age</th>\n",
       "      <th>crimes</th>\n",
       "      <th>crime_year</th>\n",
       "      <th>age1</th>\n",
       "      <th>age2</th>\n",
       "      <th>birth_year1</th>\n",
       "      <th>birth_year2</th>\n",
       "      <th>cohort</th>\n",
       "    </tr>\n",
       "  </thead>\n",
       "  <tbody>\n",
       "    <tr>\n",
       "      <th>46</th>\n",
       "      <td>46</td>\n",
       "      <td>15 0</td>\n",
       "      <td>0</td>\n",
       "      <td>1995</td>\n",
       "      <td>15</td>\n",
       "      <td>0</td>\n",
       "      <td>1980</td>\n",
       "      <td>1995</td>\n",
       "      <td>NaN</td>\n",
       "    </tr>\n",
       "    <tr>\n",
       "      <th>196</th>\n",
       "      <td>196</td>\n",
       "      <td>20 24</td>\n",
       "      <td>5420</td>\n",
       "      <td>2005</td>\n",
       "      <td>20</td>\n",
       "      <td>24</td>\n",
       "      <td>1985</td>\n",
       "      <td>1981</td>\n",
       "      <td>NaN</td>\n",
       "    </tr>\n",
       "    <tr>\n",
       "      <th>277</th>\n",
       "      <td>277</td>\n",
       "      <td>30 34</td>\n",
       "      <td>4532</td>\n",
       "      <td>2016</td>\n",
       "      <td>30</td>\n",
       "      <td>34</td>\n",
       "      <td>1986</td>\n",
       "      <td>1982</td>\n",
       "      <td>NaN</td>\n",
       "    </tr>\n",
       "    <tr>\n",
       "      <th>363</th>\n",
       "      <td>363</td>\n",
       "      <td>45 49</td>\n",
       "      <td>1384</td>\n",
       "      <td>1997</td>\n",
       "      <td>45</td>\n",
       "      <td>49</td>\n",
       "      <td>1952</td>\n",
       "      <td>1948</td>\n",
       "      <td>NaN</td>\n",
       "    </tr>\n",
       "    <tr>\n",
       "      <th>357</th>\n",
       "      <td>357</td>\n",
       "      <td>45 49</td>\n",
       "      <td>1137</td>\n",
       "      <td>1991</td>\n",
       "      <td>45</td>\n",
       "      <td>49</td>\n",
       "      <td>1946</td>\n",
       "      <td>1942</td>\n",
       "      <td>NaN</td>\n",
       "    </tr>\n",
       "  </tbody>\n",
       "</table>\n",
       "</div>"
      ],
      "text/plain": [
       "     Unnamed: 0    age  crimes  crime_year age1 age2  birth_year1  \\\n",
       "46           46   15 0       0        1995   15    0         1980   \n",
       "196         196  20 24    5420        2005   20   24         1985   \n",
       "277         277  30 34    4532        2016   30   34         1986   \n",
       "363         363  45 49    1384        1997   45   49         1952   \n",
       "357         357  45 49    1137        1991   45   49         1946   \n",
       "\n",
       "     birth_year2  cohort  \n",
       "46          1995     NaN  \n",
       "196         1981     NaN  \n",
       "277         1982     NaN  \n",
       "363         1948     NaN  \n",
       "357         1942     NaN  "
      ]
     },
     "execution_count": 36,
     "metadata": {},
     "output_type": "execute_result"
    }
   ],
   "source": [
    "df1.sample(5)"
   ]
  },
  {
   "cell_type": "code",
   "execution_count": 37,
   "metadata": {},
   "outputs": [],
   "source": [
    "df1['birth_year1'] = df1['birth_year1'].astype(str)"
   ]
  },
  {
   "cell_type": "code",
   "execution_count": 38,
   "metadata": {},
   "outputs": [],
   "source": [
    "df1['birth_year2'] = df1['birth_year2'].astype(str)"
   ]
  },
  {
   "cell_type": "code",
   "execution_count": 39,
   "metadata": {},
   "outputs": [],
   "source": [
    "df1['age2'] = df1['age2'].astype(int)"
   ]
  },
  {
   "cell_type": "code",
   "execution_count": 40,
   "metadata": {},
   "outputs": [
    {
     "ename": "SyntaxError",
     "evalue": "invalid syntax (<ipython-input-40-8f975e48c08a>, line 1)",
     "output_type": "error",
     "traceback": [
      "\u001b[1;36m  File \u001b[1;32m\"<ipython-input-40-8f975e48c08a>\"\u001b[1;36m, line \u001b[1;32m1\u001b[0m\n\u001b[1;33m    df1['cohort'] = df1[['birth_year2', 'birth_year1', 'age2']].apply(lambda x: '-'.join(x) if , axis=1)\u001b[0m\n\u001b[1;37m                                                                                               ^\u001b[0m\n\u001b[1;31mSyntaxError\u001b[0m\u001b[1;31m:\u001b[0m invalid syntax\n"
     ]
    }
   ],
   "source": [
    "df1['cohort'] = df1[['birth_year2', 'birth_year1', 'age2']].apply(lambda x: '-'.join(x) if , axis=1)"
   ]
  },
  {
   "cell_type": "code",
   "execution_count": null,
   "metadata": {},
   "outputs": [],
   "source": [
    "df1['cohort'] = df1[['birth_year2', 'birth_year1', 'age2']].apply(lambda x: '-'.join([x['birth_year2'], x['birth_year1']]) if str(x['age2']) != \"0\" else x['birth_year1'], axis=1)"
   ]
  },
  {
   "cell_type": "code",
   "execution_count": null,
   "metadata": {},
   "outputs": [],
   "source": [
    "df1.to_csv('data_cohort_perfect.csv')"
   ]
  },
  {
   "cell_type": "code",
   "execution_count": null,
   "metadata": {},
   "outputs": [],
   "source": [
    "df1.loc[df1.crime_year == df1.birth_year2, \"cohort\"] = df1.birth_year1"
   ]
  },
  {
   "cell_type": "code",
   "execution_count": null,
   "metadata": {},
   "outputs": [],
   "source": [
    "df1.head()"
   ]
  },
  {
   "cell_type": "code",
   "execution_count": null,
   "metadata": {},
   "outputs": [],
   "source": [
    "df1.sample(5)"
   ]
  },
  {
   "cell_type": "code",
   "execution_count": null,
   "metadata": {},
   "outputs": [],
   "source": [
    "df1['cohort'] = np.where(df1.age2 == 0, df1.birth_year1, df1.cohort)"
   ]
  },
  {
   "cell_type": "code",
   "execution_count": null,
   "metadata": {},
   "outputs": [],
   "source": [
    "df1.head()"
   ]
  },
  {
   "cell_type": "code",
   "execution_count": null,
   "metadata": {},
   "outputs": [],
   "source": [
    "df1.head()"
   ]
  },
  {
   "cell_type": "code",
   "execution_count": null,
   "metadata": {},
   "outputs": [],
   "source": []
  },
  {
   "cell_type": "code",
   "execution_count": null,
   "metadata": {},
   "outputs": [],
   "source": [
    "df1.loc[df1.age2 == 0, \"cohort\"] = df1['birth_year1']"
   ]
  },
  {
   "cell_type": "code",
   "execution_count": null,
   "metadata": {},
   "outputs": [],
   "source": [
    "df1.head()"
   ]
  },
  {
   "cell_type": "code",
   "execution_count": null,
   "metadata": {},
   "outputs": [],
   "source": [
    "df1.groupby('cohort').crimes.sum().sort_values(ascending=False)"
   ]
  },
  {
   "cell_type": "code",
   "execution_count": null,
   "metadata": {},
   "outputs": [],
   "source": [
    "df1.head()"
   ]
  },
  {
   "cell_type": "code",
   "execution_count": null,
   "metadata": {},
   "outputs": [],
   "source": [
    "pd.DataFrame(df1.groupby('cohort').crimes.sum())"
   ]
  },
  {
   "cell_type": "code",
   "execution_count": null,
   "metadata": {},
   "outputs": [],
   "source": [
    "pd.DataFrame(df1.groupby('cohort').crimes.sum().sort_values(ascending=False))"
   ]
  },
  {
   "cell_type": "code",
   "execution_count": null,
   "metadata": {},
   "outputs": [],
   "source": [
    "import pandas as pd\n",
    "import numpy as np\n",
    "import statsmodels.api as sm\n",
    "import seaborn as sns"
   ]
  },
  {
   "cell_type": "code",
   "execution_count": null,
   "metadata": {},
   "outputs": [],
   "source": [
    "df1.sample(10)"
   ]
  },
  {
   "cell_type": "code",
   "execution_count": null,
   "metadata": {},
   "outputs": [],
   "source": [
    "X = df1[['crime_year']]\n",
    "y = df1[['crimes']]\n",
    "\n",
    "model = sm.OLS(y.astype(float), X).fit()\n",
    "model.summary()"
   ]
  },
  {
   "cell_type": "code",
   "execution_count": null,
   "metadata": {},
   "outputs": [],
   "source": []
  },
  {
   "cell_type": "markdown",
   "metadata": {},
   "source": [
    "## the most criminal age cohorts in the last 20 years "
   ]
  },
  {
   "cell_type": "code",
   "execution_count": null,
   "metadata": {
    "scrolled": false
   },
   "outputs": [],
   "source": [
    "df1.groupby('cohort').crimes.sum().sort_values(ascending=False).plot(kind='bar', figsize=(25,10))"
   ]
  },
  {
   "cell_type": "code",
   "execution_count": null,
   "metadata": {},
   "outputs": [],
   "source": [
    "# sns.pairplot(data=df1, kind=\"reg\")"
   ]
  },
  {
   "cell_type": "code",
   "execution_count": null,
   "metadata": {},
   "outputs": [],
   "source": [
    "cohorts_true = df1[df1.age2 != 0]"
   ]
  },
  {
   "cell_type": "code",
   "execution_count": null,
   "metadata": {
    "scrolled": false
   },
   "outputs": [],
   "source": [
    "cohorts_true.groupby('cohort').crimes.sum().sort_values(ascending=False).plot(kind='bar', figsize=(25,10))"
   ]
  },
  {
   "cell_type": "code",
   "execution_count": null,
   "metadata": {},
   "outputs": [],
   "source": [
    "df1.sample(5)"
   ]
  },
  {
   "cell_type": "code",
   "execution_count": null,
   "metadata": {},
   "outputs": [],
   "source": [
    "df1['birth_year3'] = df1['birth_year2'].astype(int) + 1"
   ]
  },
  {
   "cell_type": "code",
   "execution_count": null,
   "metadata": {},
   "outputs": [],
   "source": [
    "df1['birth_year3'] = Nan.\n",
    "\n",
    "\n",
    "df1['cohort'] = df1[['birth_year2', 'birth_year1', 'age2']].apply(lambda x: '-'.join([x['birth_year2'], x['birth_year1']]) if str(x['age2']) != \"0\" else x['birth_year1'], axis=1)"
   ]
  },
  {
   "cell_type": "code",
   "execution_count": null,
   "metadata": {},
   "outputs": [],
   "source": [
    "df1['birth_year4'] = df1['birth_year2'].astype(int) + 2"
   ]
  },
  {
   "cell_type": "code",
   "execution_count": null,
   "metadata": {},
   "outputs": [],
   "source": [
    "df1['birth_year5'] = df1['birth_year2'].astype(int) + 3"
   ]
  },
  {
   "cell_type": "code",
   "execution_count": null,
   "metadata": {},
   "outputs": [],
   "source": [
    "df1['birth_year6'] = df1['birth_year2'].astype(int) + 4"
   ]
  },
  {
   "cell_type": "code",
   "execution_count": null,
   "metadata": {},
   "outputs": [],
   "source": [
    "df1.sample(20)"
   ]
  },
  {
   "cell_type": "code",
   "execution_count": null,
   "metadata": {},
   "outputs": [],
   "source": []
  },
  {
   "cell_type": "markdown",
   "metadata": {},
   "source": [
    "## new analysis"
   ]
  },
  {
   "cell_type": "code",
   "execution_count": null,
   "metadata": {},
   "outputs": [],
   "source": [
    "df.head()"
   ]
  },
  {
   "cell_type": "code",
   "execution_count": null,
   "metadata": {},
   "outputs": [],
   "source": [
    "df['18'] = round(df['18 19']/2).astype(int)"
   ]
  },
  {
   "cell_type": "code",
   "execution_count": null,
   "metadata": {},
   "outputs": [],
   "source": [
    "df['19'] = round(df['18 19']/2).astype(int)"
   ]
  },
  {
   "cell_type": "code",
   "execution_count": null,
   "metadata": {},
   "outputs": [],
   "source": [
    "df['20'] = round(df['20 24']/4).astype(int)"
   ]
  },
  {
   "cell_type": "code",
   "execution_count": null,
   "metadata": {},
   "outputs": [],
   "source": [
    "df['21'] = round(df['20 24']/4).astype(int)"
   ]
  },
  {
   "cell_type": "code",
   "execution_count": null,
   "metadata": {},
   "outputs": [],
   "source": [
    "df['22'] = round(df['20 24']/4).astype(int)"
   ]
  },
  {
   "cell_type": "code",
   "execution_count": null,
   "metadata": {},
   "outputs": [],
   "source": [
    "df['23'] = round(df['20 24']/4).astype(int)"
   ]
  },
  {
   "cell_type": "code",
   "execution_count": null,
   "metadata": {},
   "outputs": [],
   "source": [
    "df['24'] = round(df['20 24']/4).astype(int)"
   ]
  },
  {
   "cell_type": "code",
   "execution_count": null,
   "metadata": {},
   "outputs": [],
   "source": [
    "df['14'] = df['14 0']"
   ]
  },
  {
   "cell_type": "code",
   "execution_count": null,
   "metadata": {},
   "outputs": [],
   "source": [
    "df['15'] = df['15 0']"
   ]
  },
  {
   "cell_type": "code",
   "execution_count": null,
   "metadata": {},
   "outputs": [],
   "source": [
    "df['16'] = df['16 0']"
   ]
  },
  {
   "cell_type": "code",
   "execution_count": null,
   "metadata": {},
   "outputs": [],
   "source": [
    "df['17'] = df['17 0']"
   ]
  },
  {
   "cell_type": "code",
   "execution_count": null,
   "metadata": {},
   "outputs": [],
   "source": [
    "df['70'] = df['70 0']"
   ]
  },
  {
   "cell_type": "code",
   "execution_count": null,
   "metadata": {},
   "outputs": [],
   "source": [
    "df['25'] = round(df['25 29']/4).astype(int)\n",
    "df['26'] = round(df['25 29']/4).astype(int)\n",
    "df['27'] = round(df['25 29']/4).astype(int)\n",
    "df['28'] = round(df['25 29']/4).astype(int)\n",
    "df['29'] = round(df['25 29']/4).astype(int)"
   ]
  },
  {
   "cell_type": "code",
   "execution_count": null,
   "metadata": {},
   "outputs": [],
   "source": [
    "df['30'] = round(df['30 34']/4).astype(int)\n",
    "df['31'] = round(df['30 34']/4).astype(int)\n",
    "df['32'] = round(df['30 34']/4).astype(int)\n",
    "df['33'] = round(df['30 34']/4).astype(int)\n",
    "df['34'] = round(df['30 34']/4).astype(int)"
   ]
  },
  {
   "cell_type": "code",
   "execution_count": null,
   "metadata": {},
   "outputs": [],
   "source": [
    "df['35'] = round(df['35 39']/4).astype(int)\n",
    "df['36'] = round(df['35 39']/4).astype(int)\n",
    "df['37'] = round(df['35 39']/4).astype(int)\n",
    "df['38'] = round(df['35 39']/4).astype(int)\n",
    "df['39'] = round(df['35 39']/4).astype(int)"
   ]
  },
  {
   "cell_type": "code",
   "execution_count": null,
   "metadata": {},
   "outputs": [],
   "source": [
    "df['40'] = round(df['40 44']/4).astype(int)\n",
    "df['41'] = round(df['40 44']/4).astype(int)\n",
    "df['42'] = round(df['40 44']/4).astype(int)\n",
    "df['43'] = round(df['40 44']/4).astype(int)\n",
    "df['44'] = round(df['40 44']/4).astype(int)"
   ]
  },
  {
   "cell_type": "code",
   "execution_count": null,
   "metadata": {},
   "outputs": [],
   "source": [
    "df['45'] = round(df['45 49']/4).astype(int)\n",
    "df['46'] = round(df['45 49']/4).astype(int)\n",
    "df['47'] = round(df['45 49']/4).astype(int)\n",
    "df['48'] = round(df['45 49']/4).astype(int)\n",
    "df['49'] = round(df['45 49']/4).astype(int)"
   ]
  },
  {
   "cell_type": "code",
   "execution_count": null,
   "metadata": {},
   "outputs": [],
   "source": [
    "df['50'] = round(df['50 59']/10).astype(int)\n",
    "df['51'] = round(df['50 59']/10).astype(int)\n",
    "df['52'] = round(df['50 59']/10).astype(int)\n",
    "df['53'] = round(df['50 59']/10).astype(int)\n",
    "df['54'] = round(df['50 59']/10).astype(int)\n",
    "df['55'] = round(df['50 59']/10).astype(int)\n",
    "df['56'] = round(df['50 59']/10).astype(int)\n",
    "df['57'] = round(df['50 59']/10).astype(int)\n",
    "df['58'] = round(df['50 59']/10).astype(int)\n",
    "df['59'] = round(df['50 59']/10).astype(int)"
   ]
  },
  {
   "cell_type": "code",
   "execution_count": null,
   "metadata": {},
   "outputs": [],
   "source": [
    "df['60'] = round(df['60 69']/10).astype(int)\n",
    "df['61'] = round(df['60 69']/10).astype(int)\n",
    "df['62'] = round(df['60 69']/10).astype(int)\n",
    "df['63'] = round(df['60 69']/10).astype(int)\n",
    "df['64'] = round(df['60 69']/10).astype(int)\n",
    "df['65'] = round(df['60 69']/10).astype(int)\n",
    "df['66'] = round(df['60 69']/10).astype(int)\n",
    "df['67'] = round(df['60 69']/10).astype(int)\n",
    "df['68'] = round(df['60 69']/10).astype(int)\n",
    "df['69'] = round(df['60 69']/10).astype(int)"
   ]
  },
  {
   "cell_type": "code",
   "execution_count": null,
   "metadata": {},
   "outputs": [],
   "source": [
    "df.head()"
   ]
  },
  {
   "cell_type": "code",
   "execution_count": null,
   "metadata": {},
   "outputs": [],
   "source": [
    "df.columns"
   ]
  },
  {
   "cell_type": "code",
   "execution_count": null,
   "metadata": {},
   "outputs": [],
   "source": [
    "df = df[['year', '18', '19', '20', '21', '22', '23', '24', '14', '15',\n",
    "       '16', '17', '25', '26', '27', '28', '29', '30', '31', '32', '33', '34',\n",
    "       '35', '36', '37', '38', '39', '40', '41', '42', '43', '44', '45', '46',\n",
    "       '47', '48', '49', '50', '51', '52', '53', '54', '55', '56', '57', '58',\n",
    "       '59', '60', '61', '62', '63', '64', '65', '66', '67', '68', '69', '70']]"
   ]
  },
  {
   "cell_type": "code",
   "execution_count": null,
   "metadata": {},
   "outputs": [],
   "source": [
    "df.head()"
   ]
  },
  {
   "cell_type": "code",
   "execution_count": null,
   "metadata": {},
   "outputs": [],
   "source": [
    "df1 = pd.melt(df, id_vars='year', value_vars=['18', '19', '20', '21', '22', '23', '24', '14', '15',\n",
    "       '16', '17', '25', '26', '27', '28', '29', '30', '31', '32', '33', '34',\n",
    "       '35', '36', '37', '38', '39', '40', '41', '42', '43', '44', '45', '46',\n",
    "       '47', '48', '49', '50', '51', '52', '53', '54', '55', '56', '57', '58',\n",
    "       '59', '60', '61', '62', '63', '64', '65', '66', '67', '68', '69', '70'], var_name='age', value_name='crimes')"
   ]
  },
  {
   "cell_type": "code",
   "execution_count": null,
   "metadata": {},
   "outputs": [],
   "source": [
    "df1.to_csv('data_best_0908.csv')"
   ]
  },
  {
   "cell_type": "code",
   "execution_count": null,
   "metadata": {},
   "outputs": [],
   "source": [
    "df1 = pd.read_csv('data_best_0908.csv')"
   ]
  },
  {
   "cell_type": "code",
   "execution_count": null,
   "metadata": {},
   "outputs": [],
   "source": [
    "df1['year'] = df1.year.astype(str)\n",
    "# df1.year.apply(lambda s: s[:5])"
   ]
  },
  {
   "cell_type": "code",
   "execution_count": null,
   "metadata": {
    "scrolled": true
   },
   "outputs": [],
   "source": [
    "df1['year'] = df1['year'].str.replace(\"2018 2\", \"2018\")"
   ]
  },
  {
   "cell_type": "code",
   "execution_count": null,
   "metadata": {},
   "outputs": [],
   "source": [
    "df1.year.value_counts()"
   ]
  },
  {
   "cell_type": "code",
   "execution_count": null,
   "metadata": {},
   "outputs": [],
   "source": [
    "df1['birth_year'] = df1.year.astype(int) - df1.age.astype(int)"
   ]
  },
  {
   "cell_type": "code",
   "execution_count": null,
   "metadata": {},
   "outputs": [],
   "source": [
    "df1.head()"
   ]
  },
  {
   "cell_type": "code",
   "execution_count": null,
   "metadata": {},
   "outputs": [],
   "source": [
    "df1['crime_year'] = df1['year']"
   ]
  },
  {
   "cell_type": "code",
   "execution_count": null,
   "metadata": {},
   "outputs": [],
   "source": [
    "df1.to_csv('data_best_0908.csv')"
   ]
  },
  {
   "cell_type": "code",
   "execution_count": 50,
   "metadata": {},
   "outputs": [],
   "source": [
    "df1 = pd.read_csv('data_best_0908.csv')"
   ]
  },
  {
   "cell_type": "code",
   "execution_count": null,
   "metadata": {},
   "outputs": [],
   "source": [
    "df1.birth_year.value_counts().head(30)"
   ]
  },
  {
   "cell_type": "code",
   "execution_count": null,
   "metadata": {},
   "outputs": [],
   "source": [
    "df1.head()"
   ]
  },
  {
   "cell_type": "code",
   "execution_count": null,
   "metadata": {},
   "outputs": [],
   "source": [
    "# sns.pairplot(data=df1, kind='reg')\n",
    "\n",
    "sns.lmplot(x=\"birth_year\", y=\"crimes\", data=df1)"
   ]
  },
  {
   "cell_type": "markdown",
   "metadata": {},
   "source": [
    "## people with which birth date committed the most crimes from 1984 till 2018? "
   ]
  },
  {
   "cell_type": "code",
   "execution_count": null,
   "metadata": {},
   "outputs": [],
   "source": []
  },
  {
   "cell_type": "code",
   "execution_count": null,
   "metadata": {},
   "outputs": [],
   "source": [
    "df1.groupby('birth_year').crimes.sum().sort_values().plot(kind='barh', figsize=(8,20))"
   ]
  },
  {
   "cell_type": "code",
   "execution_count": null,
   "metadata": {},
   "outputs": [],
   "source": [
    "df1.groupby('age').crimes.sum().sort_values().plot(kind='barh', figsize=(8,20))"
   ]
  },
  {
   "cell_type": "code",
   "execution_count": null,
   "metadata": {
    "scrolled": false
   },
   "outputs": [],
   "source": [
    "df1.groupby(['age', 'birth_year']).crimes.sum().sort_values(ascending=False).head(100).plot(kind='barh', figsize=(10,25))"
   ]
  },
  {
   "cell_type": "code",
   "execution_count": null,
   "metadata": {},
   "outputs": [],
   "source": [
    "sns.pairplot(data=df1, kind='reg')"
   ]
  },
  {
   "cell_type": "code",
   "execution_count": null,
   "metadata": {
    "scrolled": false
   },
   "outputs": [],
   "source": [
    "df1.groupby(['year', 'birth_year']).crimes.sum().sort_values(ascending=False).head(100).plot(kind='barh', figsize=(8,25))"
   ]
  },
  {
   "cell_type": "code",
   "execution_count": null,
   "metadata": {},
   "outputs": [],
   "source": [
    "df1.groupby(['year', 'age']).crimes.sum().sort_values(ascending=False).head(100).plot(kind='barh', figsize=(20,35))"
   ]
  },
  {
   "cell_type": "code",
   "execution_count": null,
   "metadata": {},
   "outputs": [],
   "source": [
    "df1.groupby(['year', 'age']).crimes.sum().sort_values(ascending=False)"
   ]
  },
  {
   "cell_type": "code",
   "execution_count": null,
   "metadata": {},
   "outputs": [],
   "source": [
    "X = df1[['birth_year']]\n",
    "y = df1[['crimes']]\n",
    "\n",
    "model = sm.OLS(y, X).fit()\n",
    "model.summary()"
   ]
  },
  {
   "cell_type": "code",
   "execution_count": null,
   "metadata": {},
   "outputs": [],
   "source": [
    "df1.plot(x='birth_year', y='crimes', kind='scatter', figsize=(7, 7))"
   ]
  },
  {
   "cell_type": "code",
   "execution_count": null,
   "metadata": {},
   "outputs": [],
   "source": [
    "sns.lmplot(x='birth_year', y='crimes', data=df1)"
   ]
  },
  {
   "cell_type": "code",
   "execution_count": 51,
   "metadata": {},
   "outputs": [
    {
     "data": {
      "text/html": [
       "<div>\n",
       "<style scoped>\n",
       "    .dataframe tbody tr th:only-of-type {\n",
       "        vertical-align: middle;\n",
       "    }\n",
       "\n",
       "    .dataframe tbody tr th {\n",
       "        vertical-align: top;\n",
       "    }\n",
       "\n",
       "    .dataframe thead th {\n",
       "        text-align: right;\n",
       "    }\n",
       "</style>\n",
       "<table border=\"1\" class=\"dataframe\">\n",
       "  <thead>\n",
       "    <tr style=\"text-align: right;\">\n",
       "      <th></th>\n",
       "      <th>Unnamed: 0</th>\n",
       "      <th>Unnamed: 0.1</th>\n",
       "      <th>year</th>\n",
       "      <th>age</th>\n",
       "      <th>crimes</th>\n",
       "      <th>birth_year</th>\n",
       "      <th>crime_year</th>\n",
       "    </tr>\n",
       "  </thead>\n",
       "  <tbody>\n",
       "    <tr>\n",
       "      <th>0</th>\n",
       "      <td>0</td>\n",
       "      <td>0</td>\n",
       "      <td>1984</td>\n",
       "      <td>18</td>\n",
       "      <td>888</td>\n",
       "      <td>1966</td>\n",
       "      <td>1984</td>\n",
       "    </tr>\n",
       "    <tr>\n",
       "      <th>1</th>\n",
       "      <td>1</td>\n",
       "      <td>1</td>\n",
       "      <td>1985</td>\n",
       "      <td>18</td>\n",
       "      <td>801</td>\n",
       "      <td>1967</td>\n",
       "      <td>1985</td>\n",
       "    </tr>\n",
       "    <tr>\n",
       "      <th>2</th>\n",
       "      <td>2</td>\n",
       "      <td>2</td>\n",
       "      <td>1986</td>\n",
       "      <td>18</td>\n",
       "      <td>814</td>\n",
       "      <td>1968</td>\n",
       "      <td>1986</td>\n",
       "    </tr>\n",
       "    <tr>\n",
       "      <th>3</th>\n",
       "      <td>3</td>\n",
       "      <td>3</td>\n",
       "      <td>1987</td>\n",
       "      <td>18</td>\n",
       "      <td>854</td>\n",
       "      <td>1969</td>\n",
       "      <td>1987</td>\n",
       "    </tr>\n",
       "    <tr>\n",
       "      <th>4</th>\n",
       "      <td>4</td>\n",
       "      <td>4</td>\n",
       "      <td>1988</td>\n",
       "      <td>18</td>\n",
       "      <td>768</td>\n",
       "      <td>1970</td>\n",
       "      <td>1988</td>\n",
       "    </tr>\n",
       "  </tbody>\n",
       "</table>\n",
       "</div>"
      ],
      "text/plain": [
       "   Unnamed: 0  Unnamed: 0.1  year  age  crimes  birth_year  crime_year\n",
       "0           0             0  1984   18     888        1966        1984\n",
       "1           1             1  1985   18     801        1967        1985\n",
       "2           2             2  1986   18     814        1968        1986\n",
       "3           3             3  1987   18     854        1969        1987\n",
       "4           4             4  1988   18     768        1970        1988"
      ]
     },
     "execution_count": 51,
     "metadata": {},
     "output_type": "execute_result"
    }
   ],
   "source": [
    "df1.head()"
   ]
  },
  {
   "cell_type": "code",
   "execution_count": null,
   "metadata": {},
   "outputs": [],
   "source": [
    "pd.DataFrame(df1.groupby('birth_year').crimes.sum().sort_values())\n",
    "pd.DataFrame(df1.birth_year.value_counts())"
   ]
  },
  {
   "cell_type": "code",
   "execution_count": null,
   "metadata": {},
   "outputs": [],
   "source": [
    "merged = merged[['norm_crime']]"
   ]
  },
  {
   "cell_type": "code",
   "execution_count": null,
   "metadata": {},
   "outputs": [],
   "source": [
    "merged[\"birth_year\"]=merged.index"
   ]
  },
  {
   "cell_type": "code",
   "execution_count": null,
   "metadata": {},
   "outputs": [],
   "source": [
    "merged.head()"
   ]
  },
  {
   "cell_type": "code",
   "execution_count": null,
   "metadata": {},
   "outputs": [],
   "source": [
    "merged2 = pd.merge(df1, merged, on='birth_year')"
   ]
  },
  {
   "cell_type": "code",
   "execution_count": null,
   "metadata": {},
   "outputs": [],
   "source": [
    "merged2.head()"
   ]
  },
  {
   "cell_type": "code",
   "execution_count": null,
   "metadata": {},
   "outputs": [],
   "source": [
    "merged2.groupby('birth_year').norm_crime.sum().sort_values(ascending=False).plot(kind='bar', figsize=(15,6))"
   ]
  },
  {
   "cell_type": "code",
   "execution_count": null,
   "metadata": {},
   "outputs": [],
   "source": [
    "df1.head()"
   ]
  },
  {
   "cell_type": "code",
   "execution_count": 52,
   "metadata": {},
   "outputs": [],
   "source": [
    "df6 = pd.read_excel('gdp_clean.xlsx')"
   ]
  },
  {
   "cell_type": "code",
   "execution_count": 46,
   "metadata": {},
   "outputs": [
    {
     "ename": "NameError",
     "evalue": "name 'df5' is not defined",
     "output_type": "error",
     "traceback": [
      "\u001b[1;31m---------------------------------------------------------------------------\u001b[0m",
      "\u001b[1;31mNameError\u001b[0m                                 Traceback (most recent call last)",
      "\u001b[1;32m<ipython-input-46-22827e63c42a>\u001b[0m in \u001b[0;36m<module>\u001b[1;34m\u001b[0m\n\u001b[1;32m----> 1\u001b[1;33m \u001b[0mround\u001b[0m\u001b[1;33m(\u001b[0m\u001b[0mdf5\u001b[0m\u001b[1;33m.\u001b[0m\u001b[0mBIP_mio\u001b[0m\u001b[1;33m)\u001b[0m\u001b[1;33m\u001b[0m\u001b[1;33m\u001b[0m\u001b[0m\n\u001b[0m",
      "\u001b[1;31mNameError\u001b[0m: name 'df5' is not defined"
     ]
    }
   ],
   "source": [
    "round(df5.BIP_mio)"
   ]
  },
  {
   "cell_type": "code",
   "execution_count": null,
   "metadata": {},
   "outputs": [],
   "source": [
    "df1.groupby('birth_year').crimes.sum().sort_values(ascending=False).plot(kind='bar', figsize=(20,8))"
   ]
  },
  {
   "cell_type": "code",
   "execution_count": null,
   "metadata": {},
   "outputs": [],
   "source": [
    "df1.head()\n",
    "\n",
    "# sns.heatmap(df, annot=True)\n",
    "\n",
    "df5 = df1[['birth_year', 'crimes']]"
   ]
  },
  {
   "cell_type": "code",
   "execution_count": null,
   "metadata": {},
   "outputs": [],
   "source": [
    "df5.head()"
   ]
  },
  {
   "cell_type": "code",
   "execution_count": null,
   "metadata": {},
   "outputs": [],
   "source": [
    "sns.heatmap(df5, annot=True)"
   ]
  },
  {
   "cell_type": "code",
   "execution_count": 53,
   "metadata": {
    "scrolled": true
   },
   "outputs": [],
   "source": [
    "df6 = df6.dropna()"
   ]
  },
  {
   "cell_type": "code",
   "execution_count": 54,
   "metadata": {},
   "outputs": [],
   "source": [
    "df6['BIP_mio'] = df6['BIP_mio'].astype(int)"
   ]
  },
  {
   "cell_type": "code",
   "execution_count": null,
   "metadata": {},
   "outputs": [],
   "source": []
  },
  {
   "cell_type": "code",
   "execution_count": 55,
   "metadata": {},
   "outputs": [],
   "source": [
    "df7 = pd.merge(df6, df1, left_on='year', right_on='birth_year')"
   ]
  },
  {
   "cell_type": "code",
   "execution_count": 56,
   "metadata": {},
   "outputs": [
    {
     "data": {
      "text/plain": [
       "1948    35\n",
       "1959    35\n",
       "1970    35\n",
       "1969    35\n",
       "1968    35\n",
       "1967    35\n",
       "1966    35\n",
       "1965    35\n",
       "1964    35\n",
       "1963    35\n",
       "1962    35\n",
       "1960    35\n",
       "1961    35\n",
       "1958    35\n",
       "1957    35\n",
       "1956    35\n",
       "1955    35\n",
       "1954    35\n",
       "1953    35\n",
       "1952    35\n",
       "1951    35\n",
       "1950    35\n",
       "1949    35\n",
       "1971    34\n",
       "1972    33\n",
       "1973    32\n",
       "1974    31\n",
       "1975    30\n",
       "1976    29\n",
       "1977    28\n",
       "1978    27\n",
       "1979    26\n",
       "1980    25\n",
       "1981    24\n",
       "1982    23\n",
       "1983    22\n",
       "1984    21\n",
       "1985    20\n",
       "1986    19\n",
       "1987    18\n",
       "1988    17\n",
       "1989    16\n",
       "1990    15\n",
       "1991    14\n",
       "1992    13\n",
       "1993    12\n",
       "1994    11\n",
       "1995    10\n",
       "1996     9\n",
       "1997     8\n",
       "1998     7\n",
       "1999     6\n",
       "2000     5\n",
       "2001     4\n",
       "2002     3\n",
       "2003     2\n",
       "2004     1\n",
       "Name: birth_year, dtype: int64"
      ]
     },
     "execution_count": 56,
     "metadata": {},
     "output_type": "execute_result"
    }
   ],
   "source": [
    "df7.birth_year.value_counts()"
   ]
  },
  {
   "cell_type": "code",
   "execution_count": 57,
   "metadata": {},
   "outputs": [
    {
     "data": {
      "text/html": [
       "<div>\n",
       "<style scoped>\n",
       "    .dataframe tbody tr th:only-of-type {\n",
       "        vertical-align: middle;\n",
       "    }\n",
       "\n",
       "    .dataframe tbody tr th {\n",
       "        vertical-align: top;\n",
       "    }\n",
       "\n",
       "    .dataframe thead th {\n",
       "        text-align: right;\n",
       "    }\n",
       "</style>\n",
       "<table border=\"1\" class=\"dataframe\">\n",
       "  <thead>\n",
       "    <tr style=\"text-align: right;\">\n",
       "      <th></th>\n",
       "      <th>year_x</th>\n",
       "      <th>BIP_mio</th>\n",
       "      <th>Unnamed: 0</th>\n",
       "      <th>Unnamed: 0.1</th>\n",
       "      <th>year_y</th>\n",
       "      <th>age</th>\n",
       "      <th>crimes</th>\n",
       "      <th>birth_year</th>\n",
       "      <th>crime_year</th>\n",
       "      <th>BIP_mia</th>\n",
       "    </tr>\n",
       "  </thead>\n",
       "  <tbody>\n",
       "    <tr>\n",
       "      <th>0</th>\n",
       "      <td>1948</td>\n",
       "      <td>22034</td>\n",
       "      <td>770</td>\n",
       "      <td>770</td>\n",
       "      <td>1984</td>\n",
       "      <td>36</td>\n",
       "      <td>523</td>\n",
       "      <td>1948</td>\n",
       "      <td>1984</td>\n",
       "      <td>22.034</td>\n",
       "    </tr>\n",
       "    <tr>\n",
       "      <th>1</th>\n",
       "      <td>1948</td>\n",
       "      <td>22034</td>\n",
       "      <td>806</td>\n",
       "      <td>806</td>\n",
       "      <td>1985</td>\n",
       "      <td>37</td>\n",
       "      <td>526</td>\n",
       "      <td>1948</td>\n",
       "      <td>1985</td>\n",
       "      <td>22.034</td>\n",
       "    </tr>\n",
       "    <tr>\n",
       "      <th>2</th>\n",
       "      <td>1948</td>\n",
       "      <td>22034</td>\n",
       "      <td>842</td>\n",
       "      <td>842</td>\n",
       "      <td>1986</td>\n",
       "      <td>38</td>\n",
       "      <td>546</td>\n",
       "      <td>1948</td>\n",
       "      <td>1986</td>\n",
       "      <td>22.034</td>\n",
       "    </tr>\n",
       "    <tr>\n",
       "      <th>3</th>\n",
       "      <td>1948</td>\n",
       "      <td>22034</td>\n",
       "      <td>878</td>\n",
       "      <td>878</td>\n",
       "      <td>1987</td>\n",
       "      <td>39</td>\n",
       "      <td>530</td>\n",
       "      <td>1948</td>\n",
       "      <td>1987</td>\n",
       "      <td>22.034</td>\n",
       "    </tr>\n",
       "    <tr>\n",
       "      <th>4</th>\n",
       "      <td>1948</td>\n",
       "      <td>22034</td>\n",
       "      <td>914</td>\n",
       "      <td>914</td>\n",
       "      <td>1988</td>\n",
       "      <td>40</td>\n",
       "      <td>384</td>\n",
       "      <td>1948</td>\n",
       "      <td>1988</td>\n",
       "      <td>22.034</td>\n",
       "    </tr>\n",
       "    <tr>\n",
       "      <th>5</th>\n",
       "      <td>1948</td>\n",
       "      <td>22034</td>\n",
       "      <td>950</td>\n",
       "      <td>950</td>\n",
       "      <td>1989</td>\n",
       "      <td>41</td>\n",
       "      <td>382</td>\n",
       "      <td>1948</td>\n",
       "      <td>1989</td>\n",
       "      <td>22.034</td>\n",
       "    </tr>\n",
       "    <tr>\n",
       "      <th>6</th>\n",
       "      <td>1948</td>\n",
       "      <td>22034</td>\n",
       "      <td>986</td>\n",
       "      <td>986</td>\n",
       "      <td>1990</td>\n",
       "      <td>42</td>\n",
       "      <td>370</td>\n",
       "      <td>1948</td>\n",
       "      <td>1990</td>\n",
       "      <td>22.034</td>\n",
       "    </tr>\n",
       "    <tr>\n",
       "      <th>7</th>\n",
       "      <td>1948</td>\n",
       "      <td>22034</td>\n",
       "      <td>1022</td>\n",
       "      <td>1022</td>\n",
       "      <td>1991</td>\n",
       "      <td>43</td>\n",
       "      <td>403</td>\n",
       "      <td>1948</td>\n",
       "      <td>1991</td>\n",
       "      <td>22.034</td>\n",
       "    </tr>\n",
       "    <tr>\n",
       "      <th>8</th>\n",
       "      <td>1948</td>\n",
       "      <td>22034</td>\n",
       "      <td>1058</td>\n",
       "      <td>1058</td>\n",
       "      <td>1992</td>\n",
       "      <td>44</td>\n",
       "      <td>370</td>\n",
       "      <td>1948</td>\n",
       "      <td>1992</td>\n",
       "      <td>22.034</td>\n",
       "    </tr>\n",
       "    <tr>\n",
       "      <th>9</th>\n",
       "      <td>1948</td>\n",
       "      <td>22034</td>\n",
       "      <td>1094</td>\n",
       "      <td>1094</td>\n",
       "      <td>1993</td>\n",
       "      <td>45</td>\n",
       "      <td>324</td>\n",
       "      <td>1948</td>\n",
       "      <td>1993</td>\n",
       "      <td>22.034</td>\n",
       "    </tr>\n",
       "  </tbody>\n",
       "</table>\n",
       "</div>"
      ],
      "text/plain": [
       "  year_x  BIP_mio  Unnamed: 0  Unnamed: 0.1 year_y  age  crimes  birth_year  \\\n",
       "0   1948    22034         770           770   1984   36     523        1948   \n",
       "1   1948    22034         806           806   1985   37     526        1948   \n",
       "2   1948    22034         842           842   1986   38     546        1948   \n",
       "3   1948    22034         878           878   1987   39     530        1948   \n",
       "4   1948    22034         914           914   1988   40     384        1948   \n",
       "5   1948    22034         950           950   1989   41     382        1948   \n",
       "6   1948    22034         986           986   1990   42     370        1948   \n",
       "7   1948    22034        1022          1022   1991   43     403        1948   \n",
       "8   1948    22034        1058          1058   1992   44     370        1948   \n",
       "9   1948    22034        1094          1094   1993   45     324        1948   \n",
       "\n",
       "   crime_year  BIP_mia  \n",
       "0        1984   22.034  \n",
       "1        1985   22.034  \n",
       "2        1986   22.034  \n",
       "3        1987   22.034  \n",
       "4        1988   22.034  \n",
       "5        1989   22.034  \n",
       "6        1990   22.034  \n",
       "7        1991   22.034  \n",
       "8        1992   22.034  \n",
       "9        1993   22.034  "
      ]
     },
     "execution_count": 57,
     "metadata": {},
     "output_type": "execute_result"
    }
   ],
   "source": [
    "df7['BIP_mia'] = df7['BIP_mio']/1000\n",
    "df7.head(10)"
   ]
  },
  {
   "cell_type": "code",
   "execution_count": 60,
   "metadata": {},
   "outputs": [
    {
     "data": {
      "text/html": [
       "<div>\n",
       "<style scoped>\n",
       "    .dataframe tbody tr th:only-of-type {\n",
       "        vertical-align: middle;\n",
       "    }\n",
       "\n",
       "    .dataframe tbody tr th {\n",
       "        vertical-align: top;\n",
       "    }\n",
       "\n",
       "    .dataframe thead th {\n",
       "        text-align: right;\n",
       "    }\n",
       "</style>\n",
       "<table border=\"1\" class=\"dataframe\">\n",
       "  <thead>\n",
       "    <tr style=\"text-align: right;\">\n",
       "      <th></th>\n",
       "      <th>year_x</th>\n",
       "      <th>BIP_mio</th>\n",
       "      <th>Unnamed: 0</th>\n",
       "      <th>Unnamed: 0.1</th>\n",
       "      <th>year_y</th>\n",
       "      <th>age</th>\n",
       "      <th>crimes</th>\n",
       "      <th>birth_year</th>\n",
       "      <th>crime_year</th>\n",
       "      <th>BIP_mia</th>\n",
       "    </tr>\n",
       "  </thead>\n",
       "  <tbody>\n",
       "    <tr>\n",
       "      <th>0</th>\n",
       "      <td>1948</td>\n",
       "      <td>22034</td>\n",
       "      <td>770</td>\n",
       "      <td>770</td>\n",
       "      <td>1984</td>\n",
       "      <td>36</td>\n",
       "      <td>523</td>\n",
       "      <td>1948</td>\n",
       "      <td>1984</td>\n",
       "      <td>22.034</td>\n",
       "    </tr>\n",
       "    <tr>\n",
       "      <th>1</th>\n",
       "      <td>1948</td>\n",
       "      <td>22034</td>\n",
       "      <td>806</td>\n",
       "      <td>806</td>\n",
       "      <td>1985</td>\n",
       "      <td>37</td>\n",
       "      <td>526</td>\n",
       "      <td>1948</td>\n",
       "      <td>1985</td>\n",
       "      <td>22.034</td>\n",
       "    </tr>\n",
       "    <tr>\n",
       "      <th>2</th>\n",
       "      <td>1948</td>\n",
       "      <td>22034</td>\n",
       "      <td>842</td>\n",
       "      <td>842</td>\n",
       "      <td>1986</td>\n",
       "      <td>38</td>\n",
       "      <td>546</td>\n",
       "      <td>1948</td>\n",
       "      <td>1986</td>\n",
       "      <td>22.034</td>\n",
       "    </tr>\n",
       "    <tr>\n",
       "      <th>3</th>\n",
       "      <td>1948</td>\n",
       "      <td>22034</td>\n",
       "      <td>878</td>\n",
       "      <td>878</td>\n",
       "      <td>1987</td>\n",
       "      <td>39</td>\n",
       "      <td>530</td>\n",
       "      <td>1948</td>\n",
       "      <td>1987</td>\n",
       "      <td>22.034</td>\n",
       "    </tr>\n",
       "    <tr>\n",
       "      <th>4</th>\n",
       "      <td>1948</td>\n",
       "      <td>22034</td>\n",
       "      <td>914</td>\n",
       "      <td>914</td>\n",
       "      <td>1988</td>\n",
       "      <td>40</td>\n",
       "      <td>384</td>\n",
       "      <td>1948</td>\n",
       "      <td>1988</td>\n",
       "      <td>22.034</td>\n",
       "    </tr>\n",
       "  </tbody>\n",
       "</table>\n",
       "</div>"
      ],
      "text/plain": [
       "  year_x  BIP_mio  Unnamed: 0  Unnamed: 0.1 year_y  age  crimes  birth_year  \\\n",
       "0   1948    22034         770           770   1984   36     523        1948   \n",
       "1   1948    22034         806           806   1985   37     526        1948   \n",
       "2   1948    22034         842           842   1986   38     546        1948   \n",
       "3   1948    22034         878           878   1987   39     530        1948   \n",
       "4   1948    22034         914           914   1988   40     384        1948   \n",
       "\n",
       "   crime_year  BIP_mia  \n",
       "0        1984   22.034  \n",
       "1        1985   22.034  \n",
       "2        1986   22.034  \n",
       "3        1987   22.034  \n",
       "4        1988   22.034  "
      ]
     },
     "execution_count": 60,
     "metadata": {},
     "output_type": "execute_result"
    }
   ],
   "source": [
    "df7.head()"
   ]
  },
  {
   "cell_type": "code",
   "execution_count": 78,
   "metadata": {},
   "outputs": [],
   "source": [
    "r = df7.groupby(\"birth_year\")[\"crimes\",\"BIP_mia\"].agg({\"crimes\":[(\"crime\",\"sum\")],\n",
    "                                                   \"BIP_mia\": [(\"GDP\",\"mean\")]})"
   ]
  },
  {
   "cell_type": "code",
   "execution_count": 79,
   "metadata": {},
   "outputs": [],
   "source": [
    "r.columns = r.columns.map('_'.join)"
   ]
  },
  {
   "cell_type": "code",
   "execution_count": 116,
   "metadata": {},
   "outputs": [
    {
     "data": {
      "text/plain": [
       "18    29320\n",
       "19    29069\n",
       "20    28788\n",
       "17    28602\n",
       "21    28332\n",
       "16    27685\n",
       "22    27336\n",
       "37    26652\n",
       "38    26290\n",
       "23    26257\n",
       "15    26240\n",
       "39    25521\n",
       "24    25083\n",
       "40    24773\n",
       "14    24668\n",
       "36    24612\n",
       "25    24105\n",
       "41    23632\n",
       "35    23495\n",
       "26    23204\n",
       "13    23116\n",
       "34    22478\n",
       "27    22418\n",
       "42    22264\n",
       "28    21818\n",
       "12    21559\n",
       "29    21411\n",
       "31    21321\n",
       "30    21275\n",
       "32    21188\n",
       "33    21018\n",
       "43    20873\n",
       "11    19957\n",
       "44    19470\n",
       "10    18590\n",
       "45    17728\n",
       "9     17276\n",
       "8     15877\n",
       "46    15416\n",
       "7     14653\n",
       "6     13393\n",
       "47    13318\n",
       "5     12524\n",
       "4     11748\n",
       "48    11470\n",
       "3     11072\n",
       "2     10340\n",
       "1      9660\n",
       "0      9654\n",
       "49     9080\n",
       "50     7594\n",
       "51     6412\n",
       "52     5490\n",
       "53     4780\n",
       "54     2942\n",
       "55     1944\n",
       "56     1072\n",
       "Name: crimes_crime, dtype: int64"
      ]
     },
     "execution_count": 116,
     "metadata": {},
     "output_type": "execute_result"
    }
   ],
   "source": [
    "r.crimes_crime.sort_values(ascending=False)"
   ]
  },
  {
   "cell_type": "code",
   "execution_count": 120,
   "metadata": {},
   "outputs": [],
   "source": [
    "df9 = r.sort_values(by='crimes_crime', ascending=False)"
   ]
  },
  {
   "cell_type": "code",
   "execution_count": 107,
   "metadata": {},
   "outputs": [
    {
     "data": {
      "text/html": [
       "<div>\n",
       "<style scoped>\n",
       "    .dataframe tbody tr th:only-of-type {\n",
       "        vertical-align: middle;\n",
       "    }\n",
       "\n",
       "    .dataframe tbody tr th {\n",
       "        vertical-align: top;\n",
       "    }\n",
       "\n",
       "    .dataframe thead th {\n",
       "        text-align: right;\n",
       "    }\n",
       "</style>\n",
       "<table border=\"1\" class=\"dataframe\">\n",
       "  <thead>\n",
       "    <tr style=\"text-align: right;\">\n",
       "      <th></th>\n",
       "      <th>birth_year</th>\n",
       "      <th>crimes_crime</th>\n",
       "      <th>BIP_mia_GDP</th>\n",
       "      <th>crimes_crime_per_1000</th>\n",
       "    </tr>\n",
       "  </thead>\n",
       "  <tbody>\n",
       "    <tr>\n",
       "      <th>0</th>\n",
       "      <td>1948</td>\n",
       "      <td>9654</td>\n",
       "      <td>22.034</td>\n",
       "      <td>9.654</td>\n",
       "    </tr>\n",
       "    <tr>\n",
       "      <th>1</th>\n",
       "      <td>1949</td>\n",
       "      <td>9660</td>\n",
       "      <td>21.753</td>\n",
       "      <td>9.660</td>\n",
       "    </tr>\n",
       "    <tr>\n",
       "      <th>2</th>\n",
       "      <td>1950</td>\n",
       "      <td>10340</td>\n",
       "      <td>22.924</td>\n",
       "      <td>10.340</td>\n",
       "    </tr>\n",
       "    <tr>\n",
       "      <th>3</th>\n",
       "      <td>1951</td>\n",
       "      <td>11072</td>\n",
       "      <td>25.125</td>\n",
       "      <td>11.072</td>\n",
       "    </tr>\n",
       "    <tr>\n",
       "      <th>4</th>\n",
       "      <td>1952</td>\n",
       "      <td>11748</td>\n",
       "      <td>26.547</td>\n",
       "      <td>11.748</td>\n",
       "    </tr>\n",
       "  </tbody>\n",
       "</table>\n",
       "</div>"
      ],
      "text/plain": [
       "   birth_year  crimes_crime  BIP_mia_GDP  crimes_crime_per_1000\n",
       "0        1948          9654       22.034                  9.654\n",
       "1        1949          9660       21.753                  9.660\n",
       "2        1950         10340       22.924                 10.340\n",
       "3        1951         11072       25.125                 11.072\n",
       "4        1952         11748       26.547                 11.748"
      ]
     },
     "execution_count": 107,
     "metadata": {},
     "output_type": "execute_result"
    }
   ],
   "source": [
    "r.head()"
   ]
  },
  {
   "cell_type": "code",
   "execution_count": 157,
   "metadata": {
    "scrolled": false
   },
   "outputs": [
    {
     "data": {
      "text/plain": [
       "Text(0, 0.5, 'GDP')"
      ]
     },
     "execution_count": 157,
     "metadata": {},
     "output_type": "execute_result"
    },
    {
     "data": {
      "image/png": "[encoded data removed]",
      "text/plain": [
       "<Figure size 1440x720 with 2 Axes>"
      ]
     },
     "metadata": {
      "needs_background": "light"
     },
     "output_type": "display_data"
    }
   ],
   "source": [
    "import matplotlib.pyplot as plt\n",
    "\n",
    "fig = plt.figure() # Create matplotlib figure\n",
    "\n",
    "ax = fig.add_subplot(111) # Create matplotlib axes\n",
    "ax2 = ax.twinx() # Create another axes that shares the same x-axis as ax.\n",
    "\n",
    "r.plot(y='crimes_crime', x='birth_year', color='red', ax=ax, kind='bar', figsize=(20, 10), width=0.1)\n",
    "# df9.plot(y='BIP_mia_GDP', x='birth_year', color='blue', ax=ax2, kind='bar', figsize=(20, 10), position=0, width=0.3)\n",
    "\n",
    "ax.set_ylabel('Crimes')\n",
    "ax2.set_ylabel('GDP')"
   ]
  },
  {
   "cell_type": "code",
   "execution_count": 156,
   "metadata": {},
   "outputs": [
    {
     "data": {
      "image/png": "[encoded data removed]",
      "text/plain": [
       "<Figure size 720x720 with 1 Axes>"
      ]
     },
     "metadata": {
      "needs_background": "light"
     },
     "output_type": "display_data"
    }
   ],
   "source": [
    "dfList = list(r['birth_year'])\n",
    "\n",
    "\n",
    "lObjectsALLcnts = r.crimes_crime\n",
    "\n",
    "lObjectsALLlbls = dfList\n",
    "\n",
    "iN = len(lObjectsALLcnts)\n",
    "arrCnts = np.array(lObjectsALLcnts)\n",
    "\n",
    "bottom=30\n",
    "\n",
    "theta=np.arange(0,2*np.pi,2*np.pi/iN)\n",
    "width = 0.05 \n",
    "#(2*np.pi)/iN *0.9\n",
    "\n",
    "fig = plt.figure(figsize=(10, 10))\n",
    "ax = fig.add_axes([0.1, 0.1, 0.75, 0.75], polar=True)\n",
    "bars = ax.bar(theta, arrCnts, width=width, bottom=100)\n",
    "ax.set_xticks(theta)\n",
    "plt.axis()\n",
    "\n",
    "rotations = np.rad2deg(theta)\n",
    "for x, bar, rotation, label in zip(theta, bars, rotations, lObjectsALLlbls):\n",
    "    lab = ax.text(x,bottom+bar.get_height() , label, \n",
    "             ha='left', va='center', rotation=rotation, rotation_mode=\"anchor\",)   \n",
    "plt.show()\n",
    "\n",
    "# df9.plot(y='crimes_crime', x='birth_year', color='red', ax=ax, kind='bar', figsize=(20, 10), width=0.1)"
   ]
  },
  {
   "cell_type": "code",
   "execution_count": 145,
   "metadata": {},
   "outputs": [
    {
     "data": {
      "text/plain": [
       "18    1966\n",
       "19    1967\n",
       "20    1968\n",
       "17    1965\n",
       "21    1969\n",
       "16    1964\n",
       "22    1970\n",
       "37    1985\n",
       "38    1986\n",
       "23    1971\n",
       "15    1963\n",
       "39    1987\n",
       "24    1972\n",
       "40    1988\n",
       "14    1962\n",
       "36    1984\n",
       "25    1973\n",
       "41    1989\n",
       "35    1983\n",
       "26    1974\n",
       "13    1961\n",
       "34    1982\n",
       "27    1975\n",
       "42    1990\n",
       "28    1976\n",
       "12    1960\n",
       "29    1977\n",
       "31    1979\n",
       "30    1978\n",
       "32    1980\n",
       "33    1981\n",
       "43    1991\n",
       "11    1959\n",
       "44    1992\n",
       "10    1958\n",
       "45    1993\n",
       "9     1957\n",
       "8     1956\n",
       "46    1994\n",
       "7     1955\n",
       "6     1954\n",
       "47    1995\n",
       "5     1953\n",
       "4     1952\n",
       "48    1996\n",
       "3     1951\n",
       "2     1950\n",
       "1     1949\n",
       "0     1948\n",
       "49    1997\n",
       "50    1998\n",
       "51    1999\n",
       "52    2000\n",
       "53    2001\n",
       "54    2002\n",
       "55    2003\n",
       "56    2004\n",
       "Name: birth_year, dtype: int64"
      ]
     },
     "execution_count": 145,
     "metadata": {},
     "output_type": "execute_result"
    }
   ],
   "source": [
    "df9.birth_year"
   ]
  },
  {
   "cell_type": "code",
   "execution_count": 89,
   "metadata": {
    "scrolled": true
   },
   "outputs": [
    {
     "data": {
      "text/plain": [
       "<matplotlib.axes._subplots.AxesSubplot at 0x229e8646a58>"
      ]
     },
     "execution_count": 89,
     "metadata": {},
     "output_type": "execute_result"
    },
    {
     "data": {
      "image/png": "[encoded data removed]",
      "text/plain": [
       "<Figure size 1080x720 with 1 Axes>"
      ]
     },
     "metadata": {
      "needs_background": "light"
     },
     "output_type": "display_data"
    }
   ],
   "source": [
    "r.plot(x='birth_year', y=['crimes_crime', \"BIP_mia_GDP\"], kind='bar', figsize=(15, 10))"
   ]
  },
  {
   "cell_type": "code",
   "execution_count": 86,
   "metadata": {},
   "outputs": [],
   "source": [
    "r['crimes_crime_per_1000'] = r['crimes_crime']/1000"
   ]
  },
  {
   "cell_type": "code",
   "execution_count": 87,
   "metadata": {},
   "outputs": [
    {
     "data": {
      "text/html": [
       "<div>\n",
       "<style scoped>\n",
       "    .dataframe tbody tr th:only-of-type {\n",
       "        vertical-align: middle;\n",
       "    }\n",
       "\n",
       "    .dataframe tbody tr th {\n",
       "        vertical-align: top;\n",
       "    }\n",
       "\n",
       "    .dataframe thead th {\n",
       "        text-align: right;\n",
       "    }\n",
       "</style>\n",
       "<table border=\"1\" class=\"dataframe\">\n",
       "  <thead>\n",
       "    <tr style=\"text-align: right;\">\n",
       "      <th></th>\n",
       "      <th>birth_year</th>\n",
       "      <th>crimes_crime</th>\n",
       "      <th>BIP_mia_GDP</th>\n",
       "      <th>crimes_crime_per_1000</th>\n",
       "    </tr>\n",
       "  </thead>\n",
       "  <tbody>\n",
       "    <tr>\n",
       "      <th>0</th>\n",
       "      <td>1948</td>\n",
       "      <td>9654</td>\n",
       "      <td>22.034</td>\n",
       "      <td>9.654</td>\n",
       "    </tr>\n",
       "    <tr>\n",
       "      <th>1</th>\n",
       "      <td>1949</td>\n",
       "      <td>9660</td>\n",
       "      <td>21.753</td>\n",
       "      <td>9.660</td>\n",
       "    </tr>\n",
       "    <tr>\n",
       "      <th>2</th>\n",
       "      <td>1950</td>\n",
       "      <td>10340</td>\n",
       "      <td>22.924</td>\n",
       "      <td>10.340</td>\n",
       "    </tr>\n",
       "    <tr>\n",
       "      <th>3</th>\n",
       "      <td>1951</td>\n",
       "      <td>11072</td>\n",
       "      <td>25.125</td>\n",
       "      <td>11.072</td>\n",
       "    </tr>\n",
       "    <tr>\n",
       "      <th>4</th>\n",
       "      <td>1952</td>\n",
       "      <td>11748</td>\n",
       "      <td>26.547</td>\n",
       "      <td>11.748</td>\n",
       "    </tr>\n",
       "  </tbody>\n",
       "</table>\n",
       "</div>"
      ],
      "text/plain": [
       "   birth_year  crimes_crime  BIP_mia_GDP  crimes_crime_per_1000\n",
       "0        1948          9654       22.034                  9.654\n",
       "1        1949          9660       21.753                  9.660\n",
       "2        1950         10340       22.924                 10.340\n",
       "3        1951         11072       25.125                 11.072\n",
       "4        1952         11748       26.547                 11.748"
      ]
     },
     "execution_count": 87,
     "metadata": {},
     "output_type": "execute_result"
    }
   ],
   "source": [
    "r.head()"
   ]
  },
  {
   "cell_type": "code",
   "execution_count": 82,
   "metadata": {},
   "outputs": [],
   "source": [
    "r = r.reset_index()"
   ]
  },
  {
   "cell_type": "code",
   "execution_count": 62,
   "metadata": {},
   "outputs": [
    {
     "data": {
      "text/plain": [
       "birth_year\n",
       "1948     22.034\n",
       "1949     21.753\n",
       "1950     22.924\n",
       "1951     25.125\n",
       "1952     26.547\n",
       "1953     27.865\n",
       "1954     29.527\n",
       "1955     31.851\n",
       "1956     34.245\n",
       "1957     36.429\n",
       "1958     37.453\n",
       "1959     39.777\n",
       "1960     43.752\n",
       "1961     49.220\n",
       "1962     54.582\n",
       "1963     60.021\n",
       "1964     66.530\n",
       "1965     71.254\n",
       "1966     76.517\n",
       "1967     82.365\n",
       "1968     87.950\n",
       "1969     95.297\n",
       "1970    106.150\n",
       "1971    120.586\n",
       "1972    136.644\n",
       "1973    152.274\n",
       "1974    165.199\n",
       "1975    164.093\n",
       "1976    166.206\n",
       "1977    170.690\n",
       "1978    177.581\n",
       "1979    185.624\n",
       "1980    199.422\n",
       "1981    214.085\n",
       "1982    226.807\n",
       "1983    233.659\n",
       "1984    249.738\n",
       "1985    264.792\n",
       "1986    277.898\n",
       "1987    288.496\n",
       "1988    306.265\n",
       "1989    330.580\n",
       "1990    358.506\n",
       "1991    374.437\n",
       "1992    382.225\n",
       "1993    390.608\n",
       "1994    400.252\n",
       "1995    405.144\n",
       "1996    407.993\n",
       "1997    415.825\n",
       "1998    427.756\n",
       "1999    435.506\n",
       "2000    459.447\n",
       "2001    470.218\n",
       "2002    469.788\n",
       "2003    475.270\n",
       "2004    490.142\n",
       "Name: BIP_mia, dtype: float64"
      ]
     },
     "execution_count": 62,
     "metadata": {},
     "output_type": "execute_result"
    }
   ],
   "source": [
    "df7.groupby(\"birth_year\").BIP_mia.mean()"
   ]
  },
  {
   "cell_type": "code",
   "execution_count": 90,
   "metadata": {},
   "outputs": [],
   "source": [
    "# df7.plot(x='birth_year', y=['crimes', 'BIP_mia'], kind='bar', figsize=(15, 10))"
   ]
  },
  {
   "cell_type": "code",
   "execution_count": 59,
   "metadata": {},
   "outputs": [],
   "source": [
    "df7.to_csv('data_best_1208.csv')"
   ]
  },
  {
   "cell_type": "code",
   "execution_count": 171,
   "metadata": {},
   "outputs": [
    {
     "data": {
      "image/png": "[encoded data removed]",
      "text/plain": [
       "<Figure size 1296x576 with 1 Axes>"
      ]
     },
     "metadata": {
      "needs_background": "light"
     },
     "output_type": "display_data"
    }
   ],
   "source": [
    "r.plot(y='crimes_crime', x='birth_year', kind='bar', figsize=(18, 8), width=0.4, color='grey')\n",
    "\n",
    "fig.tight_layout()\n",
    "\n",
    "plt.savefig(\"crimes.pdf\", transparent=True)"
   ]
  },
  {
   "cell_type": "code",
   "execution_count": null,
   "metadata": {},
   "outputs": [],
   "source": []
  }
 ],
 "metadata": {
  "kernelspec": {
   "display_name": "Python 3",
   "language": "python",
   "name": "python3"
  },
  "language_info": {
   "codemirror_mode": {
    "name": "ipython",
    "version": 3
   },
   "file_extension": ".py",
   "mimetype": "text/x-python",
   "name": "python",
   "nbconvert_exporter": "python",
   "pygments_lexer": "ipython3",
   "version": "3.7.3"
  }
 },
 "nbformat": 4,
 "nbformat_minor": 2
}
